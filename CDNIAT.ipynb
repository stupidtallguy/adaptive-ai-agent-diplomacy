{
 "cells": [
  {
   "metadata": {},
   "cell_type": "markdown",
   "source": "## Libraries",
   "id": "81f30c782e348ba3"
  },
  {
   "metadata": {
    "ExecuteTime": {
     "end_time": "2025-05-28T18:20:49.924532Z",
     "start_time": "2025-05-28T18:20:49.911986Z"
    }
   },
   "cell_type": "code",
   "source": [
    "import random\n",
    "import matplotlib.pyplot as plt\n",
    "import heapq\n",
    "import time\n"
   ],
   "id": "4d7becaa4e61faea",
   "outputs": [],
   "execution_count": 54
  },
  {
   "metadata": {},
   "cell_type": "markdown",
   "source": "## Cell 1: Drone State Definition",
   "id": "fb2dadc672a6a4de"
  },
  {
   "metadata": {
    "ExecuteTime": {
     "end_time": "2025-05-28T18:20:50.516443Z",
     "start_time": "2025-05-28T18:20:50.499738Z"
    }
   },
   "cell_type": "code",
   "source": [
    "class DroneState:\n",
    "    def __init__(self, x, y, fuel=10, lives=3, path_cost=0,\n",
    "                 known_no_fly_zones=None, known_storm_map=None,\n",
    "                 visible_map=None, time_step=0, path_history=None):\n",
    "        self.x = x\n",
    "        self.y = y\n",
    "        self.fuel = fuel\n",
    "        self.lives = lives\n",
    "        self.path_cost = path_cost\n",
    "        self.known_no_fly_zones = known_no_fly_zones if known_no_fly_zones is not None else set()\n",
    "        self.known_storm_map = known_storm_map if known_storm_map is not None else set()\n",
    "        self.visible_map = visible_map if visible_map is not None else {}\n",
    "        self.time_step = time_step\n",
    "        self.path_history = path_history if path_history is not None else [(x, y)]\n",
    "\n",
    "    def __lt__(self, other):\n",
    "        return self.path_cost < other.path_cost\n",
    "\n",
    "    def position(self):\n",
    "        return (self.x, self.y)\n",
    "\n",
    "    def is_alive(self):\n",
    "        return self.lives > 0 and self.fuel > 0\n",
    "\n",
    "    def __eq__(self, other):\n",
    "        return isinstance(other, DroneState) and (\n",
    "            self.x, self.y, self.fuel, self.lives\n",
    "        ) == (\n",
    "            other.x, other.y, other.fuel, other.lives\n",
    "        )\n",
    "\n",
    "    def __hash__(self):\n",
    "        return hash((self.x, self.y, self.fuel, self.lives))\n"
   ],
   "id": "472b01e1c16dff77",
   "outputs": [],
   "execution_count": 55
  },
  {
   "metadata": {},
   "cell_type": "markdown",
   "source": "## Cell 2: Successor Function",
   "id": "9120cb73c60f3df5"
  },
  {
   "metadata": {
    "ExecuteTime": {
     "end_time": "2025-05-28T18:20:50.867818Z",
     "start_time": "2025-05-28T18:20:50.861619Z"
    }
   },
   "cell_type": "code",
   "source": [
    "def get_successors(state, terrain, grid_size=15):\n",
    "    directions = [(-1, 0), (1, 0), (0, -1), (0, 1),\n",
    "                  (-1, -1), (-1, 1), (1, -1), (1, 1)]\n",
    "    successors = []\n",
    "\n",
    "    for dx, dy in directions:\n",
    "        nx, ny = state.x + dx, state.y + dy\n",
    "        if 0 <= nx < grid_size and 0 <= ny < grid_size:\n",
    "            cell = terrain.get((nx, ny), '.')\n",
    "\n",
    "            # Determine cost/life impact\n",
    "            new_lives = state.lives\n",
    "            new_fuel = state.fuel - 1\n",
    "            new_path_cost = state.path_cost + 1\n",
    "            scan_blocked = False\n",
    "\n",
    "            if new_fuel < 0:\n",
    "                new_lives -= 1\n",
    "                new_fuel = 0\n",
    "\n",
    "            if cell == 'M':  # Mountain\n",
    "                new_lives -= 1\n",
    "                continue  # Cannot enter mountains\n",
    "\n",
    "            if (nx, ny) in state.known_no_fly_zones:\n",
    "                continue  # Mission failure if stepped in; avoid\n",
    "\n",
    "            if cell == '~':  # Storm\n",
    "                new_lives -= 1\n",
    "                scan_blocked = True\n",
    "                new_path_cost += random.randint(3, 9)\n",
    "\n",
    "            if new_lives <= 0:\n",
    "                continue\n",
    "\n",
    "            # Create next state\n",
    "            new_state = DroneState(\n",
    "                x=nx,\n",
    "                y=ny,\n",
    "                fuel=new_fuel,\n",
    "                lives=new_lives,\n",
    "                path_cost=new_path_cost,\n",
    "                known_no_fly_zones=set(state.known_no_fly_zones),\n",
    "                known_storm_map=set(state.known_storm_map),\n",
    "                visible_map=dict(state.visible_map),\n",
    "                time_step=state.time_step + 1,\n",
    "                path_history=state.path_history + [(nx, ny)]\n",
    "            )\n",
    "\n",
    "            successors.append(new_state)\n",
    "\n",
    "    return successors\n"
   ],
   "id": "80114d0e0fe31188",
   "outputs": [],
   "execution_count": 56
  },
  {
   "metadata": {},
   "cell_type": "markdown",
   "source": "## Cell 3: Transition Model",
   "id": "15843c0164338488"
  },
  {
   "metadata": {
    "ExecuteTime": {
     "end_time": "2025-05-28T18:20:51.203703Z",
     "start_time": "2025-05-28T18:20:51.198634Z"
    }
   },
   "cell_type": "code",
   "source": [
    "def apply_transition(current_state, action, terrain):\n",
    "    dx, dy = action\n",
    "    nx, ny = current_state.x + dx, current_state.y + dy\n",
    "    if not (0 <= nx < 15 and 0 <= ny < 15):\n",
    "        return None\n",
    "\n",
    "    cell = terrain.get((nx, ny), '.')\n",
    "    new_fuel = current_state.fuel - 1\n",
    "    new_lives = current_state.lives\n",
    "    path_cost = current_state.path_cost + 1\n",
    "\n",
    "    if new_fuel < 0:\n",
    "        new_lives -= 1\n",
    "        new_fuel = 0\n",
    "\n",
    "    if cell == 'M':\n",
    "        new_lives -= 1\n",
    "        return None\n",
    "\n",
    "    if cell == '~':\n",
    "        new_lives -= 1\n",
    "        path_cost += random.randint(3, 9)\n",
    "\n",
    "    if new_lives <= 0:\n",
    "        return None\n",
    "\n",
    "    return DroneState(\n",
    "        x=nx,\n",
    "        y=ny,\n",
    "        fuel=new_fuel,\n",
    "        lives=new_lives,\n",
    "        path_cost=path_cost,\n",
    "        known_no_fly_zones=set(current_state.known_no_fly_zones),\n",
    "        known_storm_map=set(current_state.known_storm_map),\n",
    "        visible_map=dict(current_state.visible_map),\n",
    "        time_step=current_state.time_step + 1,\n",
    "        path_history=current_state.path_history + [(nx, ny)]\n",
    "    )\n"
   ],
   "id": "b04468d21d7fd4e",
   "outputs": [],
   "execution_count": 57
  },
  {
   "metadata": {},
   "cell_type": "markdown",
   "source": "## Cell 4: Cost Function",
   "id": "fd935a2ba5bf131c"
  },
  {
   "metadata": {
    "ExecuteTime": {
     "end_time": "2025-05-28T18:20:51.559903Z",
     "start_time": "2025-05-28T18:20:51.549450Z"
    }
   },
   "cell_type": "code",
   "source": [
    "def cost_function(state, cell):\n",
    "    base = 1\n",
    "    if cell == '~':\n",
    "        return base + random.randint(3, 9)\n",
    "    if cell == 'M':\n",
    "        return float('inf')  # Not enterable\n",
    "    return base\n"
   ],
   "id": "e018f5ec07cf118",
   "outputs": [],
   "execution_count": 58
  },
  {
   "metadata": {},
   "cell_type": "markdown",
   "source": "## Cell 5: Goal Test",
   "id": "bc080b7261003d32"
  },
  {
   "metadata": {
    "ExecuteTime": {
     "end_time": "2025-05-28T18:20:51.940863Z",
     "start_time": "2025-05-28T18:20:51.927645Z"
    }
   },
   "cell_type": "code",
   "source": [
    "def is_goal_reached(state, goal_position):\n",
    "    return state.position() == goal_position\n"
   ],
   "id": "fa066ab170933188",
   "outputs": [],
   "execution_count": 59
  },
  {
   "metadata": {},
   "cell_type": "markdown",
   "source": "# Task 3: Heuristic Design & Evaluation",
   "id": "e815e54b51d79c7b"
  },
  {
   "metadata": {},
   "cell_type": "markdown",
   "source": "## Cell 1: Drone Heuristic Functions",
   "id": "1354cdcd2d8bbf7"
  },
  {
   "metadata": {
    "ExecuteTime": {
     "end_time": "2025-05-28T18:20:52.493412Z",
     "start_time": "2025-05-28T18:20:52.486759Z"
    }
   },
   "cell_type": "code",
   "source": [
    "# h1: Pure Manhattan Distance to Goal\n",
    "def heuristic_h1(drone_pos, goal_pos):\n",
    "    return abs(drone_pos[0] - goal_pos[0]) + abs(drone_pos[1] - goal_pos[1])\n",
    "\n",
    "# h2: Distance + Fuel Penalty\n",
    "def heuristic_h2(drone_pos, goal_pos, fuel_left):\n",
    "    distance = heuristic_h1(drone_pos, goal_pos)\n",
    "    fuel_penalty = max(0, distance - fuel_left)\n",
    "    return distance + 2 * fuel_penalty  # extra weight for being low on fuel\n",
    "\n",
    "# h3: Distance + Life Risk (based on known storms/mountains nearby)\n",
    "def heuristic_h3(drone_pos, goal_pos, lives, known_hazards):\n",
    "    distance = heuristic_h1(drone_pos, goal_pos)\n",
    "    hazard_penalty = sum(1 for dx in [-1,0,1] for dy in [-1,0,1]\n",
    "                         if (drone_pos[0]+dx, drone_pos[1]+dy) in known_hazards and (dx,dy) != (0,0))\n",
    "    return distance + (4 - lives) + hazard_penalty\n",
    "\n",
    "# h4: Urgency-Aware Heuristic (distance + closeness to step limit)\n",
    "def heuristic_h4(drone_pos, goal_pos, time_step):\n",
    "    distance = heuristic_h1(drone_pos, goal_pos)\n",
    "    urgency = max(0, (distance + time_step) - 30)\n",
    "    return distance + urgency\n",
    "\n",
    "# h5: Hybrid Risk-Aware Heuristic\n",
    "def heuristic_h5(drone_pos, goal_pos, fuel, lives, known_hazards, no_fly_zones, time_step):\n",
    "    distance = heuristic_h1(drone_pos, goal_pos)\n",
    "    hazard_penalty = sum(1 for dx in [-1,0,1] for dy in [-1,0,1]\n",
    "                         if (drone_pos[0]+dx, drone_pos[1]+dy) in known_hazards)\n",
    "    fly_zone_penalty = sum(1 for dx in [-1,0,1] for dy in [-1,0,1]\n",
    "                         if (drone_pos[0]+dx, drone_pos[1]+dy) in no_fly_zones)\n",
    "    fuel_penalty = max(0, distance - fuel)\n",
    "    urgency = max(0, (distance + time_step) - 30)\n",
    "    return distance + 2*hazard_penalty + 3*fly_zone_penalty + 2*fuel_penalty + urgency\n"
   ],
   "id": "fac07d2f1a2c965c",
   "outputs": [],
   "execution_count": 60
  },
  {
   "metadata": {},
   "cell_type": "markdown",
   "source": " ## Cell 2: A* Setup with Heuristic Selector",
   "id": "79ed754994ad16cf"
  },
  {
   "metadata": {
    "ExecuteTime": {
     "end_time": "2025-05-28T18:20:52.850621Z",
     "start_time": "2025-05-28T18:20:52.844782Z"
    }
   },
   "cell_type": "code",
   "source": [
    "import time\n",
    "import heapq\n",
    "\n",
    "def drone_a_star(start_state, goal_pos, terrain, heuristic_id, grid_size=15):\n",
    "    open_list = []\n",
    "    heapq.heappush(open_list, (0, start_state))\n",
    "    visited = set()\n",
    "    came_from = {}\n",
    "    expanded = 0\n",
    "    start_time = time.time()\n",
    "\n",
    "    while open_list:\n",
    "        _, current = heapq.heappop(open_list)\n",
    "        key = (current.x, current.y, current.lives, current.fuel)\n",
    "\n",
    "        if key in visited:\n",
    "            continue\n",
    "        visited.add(key)\n",
    "        expanded += 1\n",
    "\n",
    "        if current.position() == goal_pos:\n",
    "            path = reconstruct_path(came_from, current)\n",
    "            duration = time.time() - start_time\n",
    "            return {\n",
    "                \"success\": True,\n",
    "                \"path\": path,\n",
    "                \"path_cost\": current.path_cost,\n",
    "                \"expanded_nodes\": expanded,\n",
    "                \"time\": duration\n",
    "            }\n",
    "\n",
    "        successors = get_successors(current, terrain, grid_size)\n",
    "        for child in successors:\n",
    "            if (child.x, child.y, child.lives, child.fuel) in visited:\n",
    "                continue\n",
    "\n",
    "            # Heuristic switch\n",
    "            if heuristic_id == \"h1\":\n",
    "                h = heuristic_h1(child.position(), goal_pos)\n",
    "            elif heuristic_id == \"h2\":\n",
    "                h = heuristic_h2(child.position(), goal_pos, child.fuel)\n",
    "            elif heuristic_id == \"h3\":\n",
    "                h = heuristic_h3(child.position(), goal_pos, child.lives, child.known_storm_map)\n",
    "            elif heuristic_id == \"h4\":\n",
    "                h = heuristic_h4(child.position(), goal_pos, child.time_step)\n",
    "            else:  # h5\n",
    "                h = heuristic_h5(child.position(), goal_pos, child.fuel, child.lives,\n",
    "                                 child.known_storm_map, child.known_no_fly_zones, child.time_step)\n",
    "\n",
    "            f = child.path_cost + h\n",
    "            heapq.heappush(open_list, (f, child))\n",
    "            came_from[child] = current\n",
    "\n",
    "    return {\"success\": False, \"path\": [], \"expanded_nodes\": expanded, \"path_cost\": None, \"time\": time.time() - start_time}\n"
   ],
   "id": "f5dbec26925a19d6",
   "outputs": [],
   "execution_count": 61
  },
  {
   "metadata": {},
   "cell_type": "markdown",
   "source": "## Cell 3: Benchmarking All Heuristics",
   "id": "4cdf24106197515d"
  },
  {
   "metadata": {
    "ExecuteTime": {
     "end_time": "2025-05-28T18:20:53.246655Z",
     "start_time": "2025-05-28T18:20:53.232400Z"
    }
   },
   "cell_type": "code",
   "source": [
    "def evaluate_all_heuristics(start_state, goal_pos, terrain):\n",
    "    heuristics = [\"h1\", \"h2\", \"h3\", \"h4\", \"h5\"]\n",
    "    results = {}\n",
    "\n",
    "    for h in heuristics:\n",
    "        print(f\"Running A* with {h}...\")\n",
    "        result = drone_a_star(start_state, goal_pos, terrain, h)\n",
    "        results[h] = result\n",
    "        print(f\" Success        : {result['success']}\")\n",
    "        print(f\" Path Cost      : {result['path_cost']}\")\n",
    "        print(f\" Nodes Expanded : {result['expanded_nodes']}\")\n",
    "        print(f\" Time (s)       : {result['time']:.3f}\")\n",
    "        print(\"--------------------------------------------------\")\n",
    "\n",
    "    return results\n"
   ],
   "id": "b5be69de3589d9ad",
   "outputs": [],
   "execution_count": 62
  },
  {
   "metadata": {},
   "cell_type": "markdown",
   "source": "## Plotting Function with User-Defined Goal",
   "id": "1c9b7d12d56ea8e"
  },
  {
   "metadata": {
    "ExecuteTime": {
     "end_time": "2025-05-28T18:20:54.822709Z",
     "start_time": "2025-05-28T18:20:54.816599Z"
    }
   },
   "cell_type": "code",
   "source": [
    "import matplotlib.pyplot as plt\n",
    "\n",
    "def run_evaluation_with_goal_input(start_state, terrain):\n",
    "    # --- Get goal from user ---\n",
    "    try:\n",
    "        gx = int(input(\"Enter goal X coordinate (0–14): \"))\n",
    "        gy = int(input(\"Enter goal Y coordinate (0–14): \"))\n",
    "        if not (0 <= gx < 15 and 0 <= gy < 15):\n",
    "            print(\"Invalid goal coordinates.\")\n",
    "            return\n",
    "    except ValueError:\n",
    "        print(\"Invalid input.\")\n",
    "        return\n",
    "\n",
    "    goal_pos = (gx, gy)\n",
    "    results = evaluate_all_heuristics(start_state, goal_pos, terrain)\n",
    "\n",
    "    heuristics = list(results.keys())\n",
    "    path_costs = [results[h]['path_cost'] if results[h]['success'] else 0 for h in heuristics]\n",
    "    expanded_nodes = [results[h]['expanded_nodes'] for h in heuristics]\n",
    "    times = [results[h]['time'] for h in heuristics]\n",
    "\n",
    "    # --- Plot 1: Path Cost ---\n",
    "    plt.figure(figsize=(6, 4))\n",
    "    plt.bar(heuristics, path_costs, color='lightblue')\n",
    "    plt.title(\"Final Path Cost per Heuristic\")\n",
    "    plt.ylabel(\"Path Cost\")\n",
    "    plt.grid(axis='y')\n",
    "    plt.show()\n",
    "\n",
    "    # --- Plot 2: Expanded Nodes ---\n",
    "    plt.figure(figsize=(6, 4))\n",
    "    plt.bar(heuristics, expanded_nodes, color='lightgreen')\n",
    "    plt.title(\"Expanded Nodes per Heuristic\")\n",
    "    plt.ylabel(\"Number of Expanded Nodes\")\n",
    "    plt.grid(axis='y')\n",
    "    plt.show()\n",
    "\n",
    "    # --- Plot 3: Execution Time ---\n",
    "    plt.figure(figsize=(6, 4))\n",
    "    plt.bar(heuristics, times, color='salmon')\n",
    "    plt.title(\"Execution Time per Heuristic\")\n",
    "    plt.ylabel(\"Time (seconds)\")\n",
    "    plt.grid(axis='y')\n",
    "    plt.show()\n"
   ],
   "id": "ff304fd25bc0ccfc",
   "outputs": [],
   "execution_count": 63
  },
  {
   "metadata": {},
   "cell_type": "markdown",
   "source": "## Terrain Generator (Cell)",
   "id": "d92420b18b1316c3"
  },
  {
   "metadata": {
    "ExecuteTime": {
     "end_time": "2025-05-28T18:20:55.306276Z",
     "start_time": "2025-05-28T18:20:55.295584Z"
    }
   },
   "cell_type": "code",
   "source": [
    "def generate_random_terrain(grid_size=15, goal_override=None):\n",
    "    terrain = {}\n",
    "    total_cells = grid_size * grid_size\n",
    "\n",
    "    # Mountains\n",
    "    num_mountains = int(0.2 * total_cells)\n",
    "    for _ in range(num_mountains):\n",
    "        while True:\n",
    "            cell = (random.randint(0, grid_size - 1), random.randint(0, grid_size - 1))\n",
    "            if cell not in terrain and cell != (0, 0):\n",
    "                terrain[cell] = 'M'\n",
    "                break\n",
    "\n",
    "    # No-Fly Zones (X) — hidden from agent, but placed\n",
    "    no_fly_zones = set()\n",
    "    num_no_fly = int(0.2 * total_cells)\n",
    "    while len(no_fly_zones) < num_no_fly:\n",
    "        cell = (random.randint(0, grid_size - 1), random.randint(0, grid_size - 1))\n",
    "        if cell not in terrain and cell != (0, 0):\n",
    "            no_fly_zones.add(cell)\n",
    "\n",
    "    # Storms (~)\n",
    "    for _ in range(random.randint(1, 3)):\n",
    "        while True:\n",
    "            cell = (random.randint(0, grid_size - 1), random.randint(0, grid_size - 1))\n",
    "            if cell not in terrain and cell != (0, 0):\n",
    "                terrain[cell] = '~'\n",
    "                break\n",
    "\n",
    "    # Fuel stations (E) — not used by planner yet\n",
    "    for _ in range(15):\n",
    "        while True:\n",
    "            cell = (random.randint(0, grid_size - 1), random.randint(0, grid_size - 1))\n",
    "            if cell not in terrain and cell != (0, 0):\n",
    "                terrain[cell] = 'E'\n",
    "                break\n",
    "\n",
    "    # Goal (G)\n",
    "    if goal_override:\n",
    "        goal_pos = goal_override\n",
    "    else:\n",
    "        while True:\n",
    "            goal_pos = (random.randint(0, grid_size - 1), random.randint(0, grid_size - 1))\n",
    "            if goal_pos != (0, 0) and goal_pos not in terrain:\n",
    "                break\n",
    "    terrain[goal_pos] = 'G'\n",
    "\n",
    "    return terrain, no_fly_zones, goal_pos\n"
   ],
   "id": "eded60947c51e2e3",
   "outputs": [],
   "execution_count": 64
  },
  {
   "metadata": {
    "ExecuteTime": {
     "end_time": "2025-05-28T18:20:55.623725Z",
     "start_time": "2025-05-28T18:20:55.610533Z"
    }
   },
   "cell_type": "code",
   "source": [
    "def reconstruct_path(came_from, current):\n",
    "    path = [current.position()]\n",
    "    while current in came_from:\n",
    "        current = came_from[current]\n",
    "        path.append(current.position())\n",
    "    path.reverse()\n",
    "    return path\n"
   ],
   "id": "acfb07476f175d80",
   "outputs": [],
   "execution_count": 65
  },
  {
   "metadata": {},
   "cell_type": "markdown",
   "source": "## Start State Initializer (Cell)",
   "id": "3757ee490f12dce2"
  },
  {
   "metadata": {
    "ExecuteTime": {
     "end_time": "2025-05-28T18:20:56.159637Z",
     "start_time": "2025-05-28T18:20:56.151309Z"
    }
   },
   "cell_type": "code",
   "source": [
    "def init_start_state():\n",
    "    return DroneState(\n",
    "        x=0,\n",
    "        y=0,\n",
    "        fuel=10,\n",
    "        lives=3,\n",
    "        path_cost=0,\n",
    "        known_no_fly_zones=set(),\n",
    "        known_storm_map=set(),\n",
    "        visible_map={},\n",
    "        time_step=0,\n",
    "        path_history=[(0, 0)]\n",
    "    )\n"
   ],
   "id": "63d190aac3fa2994",
   "outputs": [],
   "execution_count": 66
  },
  {
   "metadata": {
    "ExecuteTime": {
     "end_time": "2025-05-28T18:21:01.344043Z",
     "start_time": "2025-05-28T18:20:56.385193Z"
    }
   },
   "cell_type": "code",
   "source": [
    "terrain, no_fly_zones, _ = generate_random_terrain()\n",
    "start_state = init_start_state()\n",
    "run_evaluation_with_goal_input(start_state, terrain)\n"
   ],
   "id": "7bad68d54c246215",
   "outputs": [
    {
     "name": "stdout",
     "output_type": "stream",
     "text": [
      "Running A* with h1...\n",
      " Success        : True\n",
      " Path Cost      : 5\n",
      " Nodes Expanded : 6\n",
      " Time (s)       : 0.000\n",
      "--------------------------------------------------\n",
      "Running A* with h2...\n",
      " Success        : True\n",
      " Path Cost      : 5\n",
      " Nodes Expanded : 6\n",
      " Time (s)       : 0.000\n",
      "--------------------------------------------------\n",
      "Running A* with h3...\n",
      " Success        : True\n",
      " Path Cost      : 5\n",
      " Nodes Expanded : 6\n",
      " Time (s)       : 0.000\n",
      "--------------------------------------------------\n",
      "Running A* with h4...\n",
      " Success        : True\n",
      " Path Cost      : 5\n",
      " Nodes Expanded : 6\n",
      " Time (s)       : 0.000\n",
      "--------------------------------------------------\n",
      "Running A* with h5...\n",
      " Success        : True\n",
      " Path Cost      : 5\n",
      " Nodes Expanded : 6\n",
      " Time (s)       : 0.000\n",
      "--------------------------------------------------\n"
     ]
    },
    {
     "data": {
      "text/plain": [
       "<Figure size 600x400 with 1 Axes>"
      ],
      "image/png": "[encoded data removed]"
     },
     "metadata": {},
     "output_type": "display_data"
    },
    {
     "data": {
      "text/plain": [
       "<Figure size 600x400 with 1 Axes>"
      ],
      "image/png": "[encoded data removed]"
     },
     "metadata": {},
     "output_type": "display_data"
    },
    {
     "data": {
      "text/plain": [
       "<Figure size 600x400 with 1 Axes>"
      ],
      "image/png": "[encoded data removed]"
     },
     "metadata": {},
     "output_type": "display_data"
    }
   ],
   "execution_count": 67
  },
  {
   "metadata": {},
   "cell_type": "markdown",
   "source": [
    "# Task 4: Algorithm Implementations & Evaluations\n",
    "We’ll implement:\n",
    "\n",
    "UCS (Uniform Cost Search) – cost-optimal, no heuristic\n",
    "\n",
    "Greedy Best-First Search – minimal f(n) = h(n)\n",
    "\n",
    "A* Tree Search – f(n) = g(n) + h(n), no closed set\n",
    "\n",
    "A* Graph Search – f(n) = g(n) + h(n), with closed set and dynamic replanning"
   ],
   "id": "feffb9178f332ea6"
  },
  {
   "metadata": {},
   "cell_type": "markdown",
   "source": "## Cell 1: Uniform Cost Search (UCS)",
   "id": "33396e8d3dd989d7"
  },
  {
   "metadata": {
    "ExecuteTime": {
     "end_time": "2025-05-28T18:21:11.548352Z",
     "start_time": "2025-05-28T18:21:11.534065Z"
    }
   },
   "cell_type": "code",
   "source": [
    "def ucs_search(start_state, goal_pos, terrain, grid_size=15):\n",
    "    open_list = []\n",
    "    heapq.heappush(open_list, (0, start_state))\n",
    "    visited = set()\n",
    "    came_from = {}\n",
    "    expanded = 0\n",
    "    start_time = time.time()\n",
    "\n",
    "    while open_list:\n",
    "        cost, current = heapq.heappop(open_list)\n",
    "        key = (current.x, current.y, current.lives, current.fuel)\n",
    "\n",
    "        if key in visited:\n",
    "            continue\n",
    "        visited.add(key)\n",
    "        expanded += 1\n",
    "\n",
    "        if current.position() == goal_pos:\n",
    "            path = reconstruct_path(came_from, current)\n",
    "            return {\n",
    "                \"algorithm\": \"UCS\",\n",
    "                \"success\": True,\n",
    "                \"path\": path,\n",
    "                \"path_cost\": current.path_cost,\n",
    "                \"expanded_nodes\": expanded,\n",
    "                \"time\": time.time() - start_time\n",
    "            }\n",
    "\n",
    "        for child in get_successors(current, terrain, grid_size):\n",
    "            heapq.heappush(open_list, (child.path_cost, child))\n",
    "            came_from[child] = current\n",
    "\n",
    "    return {\n",
    "        \"algorithm\": \"UCS\",\n",
    "        \"success\": False,\n",
    "        \"path\": [],\n",
    "        \"expanded_nodes\": expanded,\n",
    "        \"path_cost\": None,\n",
    "        \"time\": time.time() - start_time\n",
    "    }\n"
   ],
   "id": "14aa45f79e8f1087",
   "outputs": [],
   "execution_count": 68
  },
  {
   "metadata": {},
   "cell_type": "markdown",
   "source": "## Cell 2: Greedy Best-First Search",
   "id": "c9985f55801915c7"
  },
  {
   "metadata": {
    "ExecuteTime": {
     "end_time": "2025-05-28T18:21:12.263073Z",
     "start_time": "2025-05-28T18:21:12.257107Z"
    }
   },
   "cell_type": "code",
   "source": [
    "def greedy_search(start_state, goal_pos, terrain, heuristic_func, grid_size=15):\n",
    "    open_list = []\n",
    "    heapq.heappush(open_list, (0, start_state))\n",
    "    visited = set()\n",
    "    came_from = {}\n",
    "    expanded = 0\n",
    "    start_time = time.time()\n",
    "\n",
    "    while open_list:\n",
    "        _, current = heapq.heappop(open_list)\n",
    "        key = (current.x, current.y, current.lives, current.fuel)\n",
    "\n",
    "        if key in visited:\n",
    "            continue\n",
    "        visited.add(key)\n",
    "        expanded += 1\n",
    "\n",
    "        if current.position() == goal_pos:\n",
    "            path = reconstruct_path(came_from, current)\n",
    "            return {\n",
    "                \"algorithm\": \"Greedy\",\n",
    "                \"success\": True,\n",
    "                \"path\": path,\n",
    "                \"path_cost\": current.path_cost,\n",
    "                \"expanded_nodes\": expanded,\n",
    "                \"time\": time.time() - start_time\n",
    "            }\n",
    "\n",
    "        for child in get_successors(current, terrain, grid_size):\n",
    "            if heuristic_func == heuristic_h2:\n",
    "                h = heuristic_func(child.position(), goal_pos, child.fuel)\n",
    "            elif heuristic_func == heuristic_h3:\n",
    "                h = heuristic_func(child.position(), goal_pos, child.lives, child.known_storm_map)\n",
    "            elif heuristic_func == heuristic_h5:\n",
    "                h = heuristic_func(child.position(), goal_pos, child.fuel, child.lives,\n",
    "                                   child.known_storm_map, child.known_no_fly_zones, child.time_step)\n",
    "            else:\n",
    "                h = heuristic_func(child.position(), goal_pos)\n",
    "\n",
    "            heapq.heappush(open_list, (h, child))\n",
    "            came_from[child] = current\n",
    "\n",
    "    return {\n",
    "        \"algorithm\": \"Greedy\",\n",
    "        \"success\": False,\n",
    "        \"path\": [],\n",
    "        \"expanded_nodes\": expanded,\n",
    "        \"path_cost\": None,\n",
    "        \"time\": time.time() - start_time\n",
    "    }\n"
   ],
   "id": "43f3ae91d104443a",
   "outputs": [],
   "execution_count": 69
  },
  {
   "metadata": {},
   "cell_type": "markdown",
   "source": "##  Cell 3: A* Tree Search (No Closed Set)",
   "id": "38355d2cbb59d541"
  },
  {
   "metadata": {
    "ExecuteTime": {
     "end_time": "2025-05-28T18:21:12.967783Z",
     "start_time": "2025-05-28T18:21:12.960077Z"
    }
   },
   "cell_type": "code",
   "source": [
    "def a_star_tree_search(start_state, goal_pos, terrain, heuristic_func, grid_size=15):\n",
    "    open_list = []\n",
    "    heapq.heappush(open_list, (0, start_state))\n",
    "    came_from = {}\n",
    "    expanded = 0\n",
    "    start_time = time.time()\n",
    "\n",
    "    while open_list:\n",
    "        _, current = heapq.heappop(open_list)\n",
    "        expanded += 1\n",
    "\n",
    "        if current.position() == goal_pos:\n",
    "            path = reconstruct_path(came_from, current)\n",
    "            return {\n",
    "                \"algorithm\": \"A* Tree\",\n",
    "                \"success\": True,\n",
    "                \"path\": path,\n",
    "                \"path_cost\": current.path_cost,\n",
    "                \"expanded_nodes\": expanded,\n",
    "                \"time\": time.time() - start_time\n",
    "            }\n",
    "\n",
    "        for child in get_successors(current, terrain, grid_size):\n",
    "            if heuristic_func == heuristic_h2:\n",
    "                h = heuristic_func(child.position(), goal_pos, child.fuel)\n",
    "            elif heuristic_func == heuristic_h3:\n",
    "                h = heuristic_func(child.position(), goal_pos, child.lives, child.known_storm_map)\n",
    "            elif heuristic_func == heuristic_h5:\n",
    "                h = heuristic_func(child.position(), goal_pos, child.fuel, child.lives,\n",
    "                                   child.known_storm_map, child.known_no_fly_zones, child.time_step)\n",
    "            else:\n",
    "                h = heuristic_func(child.position(), goal_pos)\n",
    "\n",
    "            f = child.path_cost + h\n",
    "            heapq.heappush(open_list, (f, child))\n",
    "            came_from[child] = current\n",
    "\n",
    "    return {\n",
    "        \"algorithm\": \"A* Tree\",\n",
    "        \"success\": False,\n",
    "        \"path\": [],\n",
    "        \"expanded_nodes\": expanded,\n",
    "        \"path_cost\": None,\n",
    "        \"time\": time.time() - start_time\n",
    "    }\n"
   ],
   "id": "f79efc924f6d21ad",
   "outputs": [],
   "execution_count": 70
  },
  {
   "metadata": {},
   "cell_type": "markdown",
   "source": [
    "## Cell 4: A* Graph Search (With Closed Set)\n",
    "This version supports dynamic terrain updates by allowing a replanning hook every n steps"
   ],
   "id": "bd008f3bfab9adc5"
  },
  {
   "metadata": {
    "ExecuteTime": {
     "end_time": "2025-05-28T18:21:13.680478Z",
     "start_time": "2025-05-28T18:21:13.670366Z"
    }
   },
   "cell_type": "code",
   "source": [
    "def a_star_graph_search(start_state, goal_pos, terrain, heuristic_func, grid_size=15, dynamic_every=10):\n",
    "    open_list = []\n",
    "    heapq.heappush(open_list, (0, start_state))\n",
    "    came_from = {}\n",
    "    visited = set()\n",
    "    expanded = 0\n",
    "    start_time = time.time()\n",
    "\n",
    "    while open_list:\n",
    "        _, current = heapq.heappop(open_list)\n",
    "        key = (current.x, current.y, current.lives, current.fuel)\n",
    "\n",
    "        if key in visited:\n",
    "            continue\n",
    "        visited.add(key)\n",
    "        expanded += 1\n",
    "\n",
    "        if current.position() == goal_pos:\n",
    "            path = reconstruct_path(came_from, current)\n",
    "            return {\n",
    "                \"algorithm\": \"A* Graph\",\n",
    "                \"success\": True,\n",
    "                \"path\": path,\n",
    "                \"path_cost\": current.path_cost,\n",
    "                \"expanded_nodes\": expanded,\n",
    "                \"time\": time.time() - start_time\n",
    "            }\n",
    "\n",
    "        if current.time_step > 0 and current.time_step % dynamic_every == 0:\n",
    "            terrain, _, _ = generate_random_terrain(goal_override=goal_pos)\n",
    "\n",
    "        for child in get_successors(current, terrain, grid_size):\n",
    "            child_key = (child.x, child.y, child.lives, child.fuel)\n",
    "            if child_key in visited:\n",
    "                continue\n",
    "\n",
    "            if heuristic_func == heuristic_h2:\n",
    "                h = heuristic_func(child.position(), goal_pos, child.fuel)\n",
    "            elif heuristic_func == heuristic_h3:\n",
    "                h = heuristic_func(child.position(), goal_pos, child.lives, child.known_storm_map)\n",
    "            elif heuristic_func == heuristic_h5:\n",
    "                h = heuristic_func(child.position(), goal_pos, child.fuel, child.lives,\n",
    "                                   child.known_storm_map, child.known_no_fly_zones, child.time_step)\n",
    "            else:\n",
    "                h = heuristic_func(child.position(), goal_pos)\n",
    "\n",
    "            f = child.path_cost + h\n",
    "            heapq.heappush(open_list, (f, child))\n",
    "            came_from[child] = current\n",
    "\n",
    "    return {\n",
    "        \"algorithm\": \"A* Graph\",\n",
    "        \"success\": False,\n",
    "        \"path\": [],\n",
    "        \"expanded_nodes\": expanded,\n",
    "        \"path_cost\": None,\n",
    "        \"time\": time.time() - start_time\n",
    "    }\n"
   ],
   "id": "93ecaf26d2533ed5",
   "outputs": [],
   "execution_count": 71
  },
  {
   "metadata": {},
   "cell_type": "markdown",
   "source": "## Cell 5: Run All Algorithms and Compare",
   "id": "e9c28cd034adc951"
  },
  {
   "metadata": {
    "ExecuteTime": {
     "end_time": "2025-05-28T18:21:14.382132Z",
     "start_time": "2025-05-28T18:21:14.371363Z"
    }
   },
   "cell_type": "code",
   "source": [
    "def run_all_algorithms(start_state, goal_pos, terrain):\n",
    "    results = {}\n",
    "\n",
    "    results['UCS'] = ucs_search(start_state, goal_pos, terrain)\n",
    "    results['Greedy-h1'] = greedy_search(start_state, goal_pos, terrain, heuristic_func=heuristic_h1)\n",
    "    results['A*_Tree-h2'] = a_star_tree_search(start_state, goal_pos, terrain, heuristic_func=heuristic_h2)\n",
    "    results['A*_Graph-h5'] = a_star_graph_search(start_state, goal_pos, terrain, heuristic_func=heuristic_h5)\n",
    "\n",
    "    for key, res in results.items():\n",
    "        print(f\"\\nAlgorithm: {res['algorithm']}\")\n",
    "        print(f\" Success        : {res['success']}\")\n",
    "        print(f\" Path Cost      : {res['path_cost']}\")\n",
    "        print(f\" Nodes Expanded : {res['expanded_nodes']}\")\n",
    "        print(f\" Time (s)       : {res['time']:.3f}\")\n",
    "\n",
    "    return results\n"
   ],
   "id": "24ec8d46fe49b629",
   "outputs": [],
   "execution_count": 72
  },
  {
   "metadata": {
    "ExecuteTime": {
     "end_time": "2025-05-28T18:21:14.869830Z",
     "start_time": "2025-05-28T18:21:14.861267Z"
    }
   },
   "cell_type": "code",
   "source": [
    "def run_algorithms_with_goal_input(start_state, terrain):\n",
    "    try:\n",
    "        gx = int(input(\"Enter goal X coordinate (0–14): \"))\n",
    "        gy = int(input(\"Enter goal Y coordinate (0–14): \"))\n",
    "        if not (0 <= gx < 15 and 0 <= gy < 15):\n",
    "            print(\"Invalid goal coordinates.\")\n",
    "            return\n",
    "    except ValueError:\n",
    "        print(\"Invalid input.\")\n",
    "        return\n",
    "\n",
    "    goal_pos = (gx, gy)\n",
    "    results = run_all_algorithms(start_state, goal_pos, terrain)\n",
    "\n",
    "    labels = list(results.keys())\n",
    "    path_costs = [results[k]['path_cost'] if results[k]['success'] else 0 for k in labels]\n",
    "    expanded_nodes = [results[k]['expanded_nodes'] for k in labels]\n",
    "    times = [results[k]['time'] for k in labels]\n",
    "\n",
    "    # --- Plot 1: Path Cost ---\n",
    "    plt.figure(figsize=(6, 4))\n",
    "    plt.bar(labels, path_costs, color='lightblue')\n",
    "    plt.title(\"Path Cost per Algorithm\")\n",
    "    plt.ylabel(\"Path Cost\")\n",
    "    plt.grid(axis='y')\n",
    "    plt.xticks(rotation=15)\n",
    "    plt.show()\n",
    "\n",
    "    # --- Plot 2: Expanded Nodes ---\n",
    "    plt.figure(figsize=(6, 4))\n",
    "    plt.bar(labels, expanded_nodes, color='lightgreen')\n",
    "    plt.title(\"Expanded Nodes per Algorithm\")\n",
    "    plt.ylabel(\"Nodes Expanded\")\n",
    "    plt.grid(axis='y')\n",
    "    plt.xticks(rotation=15)\n",
    "    plt.show()\n",
    "\n",
    "    # --- Plot 3: Execution Time ---\n",
    "    plt.figure(figsize=(6, 4))\n",
    "    plt.bar(labels, times, color='salmon')\n",
    "    plt.title(\"Execution Time per Algorithm\")\n",
    "    plt.ylabel(\"Time (seconds)\")\n",
    "    plt.grid(axis='y')\n",
    "    plt.xticks(rotation=15)\n",
    "    plt.show()\n"
   ],
   "id": "2b3360afc57e753a",
   "outputs": [],
   "execution_count": 73
  },
  {
   "metadata": {
    "ExecuteTime": {
     "end_time": "2025-05-28T18:21:20.174429Z",
     "start_time": "2025-05-28T18:21:15.295678Z"
    }
   },
   "cell_type": "code",
   "source": [
    "terrain, no_fly_zones, _ = generate_random_terrain()\n",
    "start_state = init_start_state()\n",
    "run_algorithms_with_goal_input(start_state, terrain)"
   ],
   "id": "64ed3ad941101596",
   "outputs": [
    {
     "name": "stdout",
     "output_type": "stream",
     "text": [
      "\n",
      "Algorithm: UCS\n",
      " Success        : True\n",
      " Path Cost      : 5\n",
      " Nodes Expanded : 55\n",
      " Time (s)       : 0.000\n",
      "\n",
      "Algorithm: Greedy\n",
      " Success        : True\n",
      " Path Cost      : 5\n",
      " Nodes Expanded : 6\n",
      " Time (s)       : 0.000\n",
      "\n",
      "Algorithm: A* Tree\n",
      " Success        : True\n",
      " Path Cost      : 5\n",
      " Nodes Expanded : 6\n",
      " Time (s)       : 0.000\n",
      "\n",
      "Algorithm: A* Graph\n",
      " Success        : True\n",
      " Path Cost      : 5\n",
      " Nodes Expanded : 6\n",
      " Time (s)       : 0.000\n"
     ]
    },
    {
     "data": {
      "text/plain": [
       "<Figure size 600x400 with 1 Axes>"
      ],
      "image/png": "[encoded data removed]"
     },
     "metadata": {},
     "output_type": "display_data"
    },
    {
     "data": {
      "text/plain": [
       "<Figure size 600x400 with 1 Axes>"
      ],
      "image/png": "[encoded data removed]"
     },
     "metadata": {},
     "output_type": "display_data"
    },
    {
     "data": {
      "text/plain": [
       "<Figure size 600x400 with 1 Axes>"
      ],
      "image/png": "[encoded data removed]"
     },
     "metadata": {},
     "output_type": "display_data"
    }
   ],
   "execution_count": 74
  },
  {
   "metadata": {},
   "cell_type": "markdown",
   "source": [
    "# Task 5: Dynamic Goal Discovery & Replanning\n",
    "## Behavior Summary\n",
    "    Phase\tDescription\n",
    "    Initial\tDrone explores blindly — goal is not visible\n",
    "    Detection\tIf the goal enters perception radius = 2, drone “sees” it\n",
    "    Replanning\tDrone immediately replans with A* toward the known goal"
   ],
   "id": "dcec896856342335"
  },
  {
   "metadata": {},
   "cell_type": "markdown",
   "source": "## Cell 1: Visibility Checker",
   "id": "205ae0a9244e5894"
  },
  {
   "metadata": {
    "ExecuteTime": {
     "end_time": "2025-05-28T18:21:27.497330Z",
     "start_time": "2025-05-28T18:21:27.491038Z"
    }
   },
   "cell_type": "code",
   "source": [
    "def is_goal_visible(drone_pos, goal_pos, radius=2):\n",
    "    dx = abs(drone_pos[0] - goal_pos[0])\n",
    "    dy = abs(drone_pos[1] - goal_pos[1])\n",
    "    return dx <= radius and dy <= radius\n"
   ],
   "id": "6166264153272684",
   "outputs": [],
   "execution_count": 75
  },
  {
   "metadata": {},
   "cell_type": "markdown",
   "source": "## Cell 2: Dynamic Search with Goal Discovery",
   "id": "4e88a15c8845e5df"
  },
  {
   "metadata": {
    "ExecuteTime": {
     "end_time": "2025-05-28T18:21:27.938872Z",
     "start_time": "2025-05-28T18:21:27.920225Z"
    }
   },
   "cell_type": "code",
   "source": [
    "def dynamic_goal_search(start_state, terrain, goal_pos, heuristic_func, grid_size=15):\n",
    "    open_list = []\n",
    "    heapq.heappush(open_list, (0, start_state))\n",
    "    came_from = {}\n",
    "    visited = set()\n",
    "    expanded = 0\n",
    "    start_time = time.time()\n",
    "    goal_discovered = False\n",
    "\n",
    "    while open_list:\n",
    "        _, current = heapq.heappop(open_list)\n",
    "        key = (current.x, current.y, current.lives, current.fuel)\n",
    "\n",
    "        if key in visited:\n",
    "            continue\n",
    "        visited.add(key)\n",
    "        expanded += 1\n",
    "\n",
    "        # Check if drone has discovered the goal\n",
    "        if not goal_discovered and is_goal_visible(current.position(), goal_pos):\n",
    "            print(f\"[Step {current.time_step}] 🚨 Goal discovered at {goal_pos}!\")\n",
    "            goal_discovered = True\n",
    "            # Reset open list and visited to start fresh replanning\n",
    "            open_list = []\n",
    "            visited = set()\n",
    "            heapq.heappush(open_list, (0, current))\n",
    "            came_from = {}\n",
    "            continue\n",
    "\n",
    "        # Once goal is discovered and reached\n",
    "        if goal_discovered and current.position() == goal_pos:\n",
    "            path = reconstruct_path(came_from, current)\n",
    "            return {\n",
    "                \"algorithm\": \"Dynamic A*\",\n",
    "                \"success\": True,\n",
    "                \"path\": path,\n",
    "                \"path_cost\": current.path_cost,\n",
    "                \"expanded_nodes\": expanded,\n",
    "                \"time\": time.time() - start_time\n",
    "            }\n",
    "\n",
    "        for child in get_successors(current, terrain, grid_size):\n",
    "            child_key = (child.x, child.y, child.lives, child.fuel)\n",
    "            if child_key in visited:\n",
    "                continue\n",
    "\n",
    "            # Use full heuristic only once goal is known\n",
    "            if goal_discovered:\n",
    "                if heuristic_func == heuristic_h2:\n",
    "                    h = heuristic_func(child.position(), goal_pos, child.fuel)\n",
    "                elif heuristic_func == heuristic_h3:\n",
    "                    h = heuristic_func(child.position(), goal_pos, child.lives, child.known_storm_map)\n",
    "                elif heuristic_func == heuristic_h5:\n",
    "                    h = heuristic_func(child.position(), goal_pos, child.fuel, child.lives,\n",
    "                                       child.known_storm_map, child.known_no_fly_zones, child.time_step)\n",
    "                else:\n",
    "                    h = heuristic_func(child.position(), goal_pos)\n",
    "            else:\n",
    "                h = 0  # No goal known yet — default to low priority exploration\n",
    "\n",
    "            f = child.path_cost + h\n",
    "            heapq.heappush(open_list, (f, child))\n",
    "            came_from[child] = current\n",
    "\n",
    "    return {\n",
    "        \"algorithm\": \"Dynamic A*\",\n",
    "        \"success\": False,\n",
    "        \"path\": [],\n",
    "        \"expanded_nodes\": expanded,\n",
    "        \"path_cost\": None,\n",
    "        \"time\": time.time() - start_time\n",
    "    }\n"
   ],
   "id": "e0dfbba1c53e5280",
   "outputs": [],
   "execution_count": 76
  },
  {
   "metadata": {},
   "cell_type": "markdown",
   "source": "## Cell 3: Run and Print Result",
   "id": "ad73a00551d17cc6"
  },
  {
   "metadata": {
    "ExecuteTime": {
     "end_time": "2025-05-28T18:21:28.451270Z",
     "start_time": "2025-05-28T18:21:28.435988Z"
    }
   },
   "cell_type": "code",
   "source": [
    "def run_dynamic_goal_demo():\n",
    "    terrain, _, goal_pos = generate_random_terrain()\n",
    "    start_state = init_start_state()\n",
    "    result = dynamic_goal_search(start_state, terrain, goal_pos, heuristic_func=heuristic_h5)\n",
    "\n",
    "    print(\"\\n=== Dynamic Goal Search Summary ===\")\n",
    "    print(f\" Algorithm       : {result['algorithm']}\")\n",
    "    print(f\" Goal Position   : {goal_pos}\")\n",
    "    print(f\" Success         : {result['success']}\")\n",
    "    print(f\" Path Cost       : {result['path_cost']}\")\n",
    "    print(f\" Nodes Expanded  : {result['expanded_nodes']}\")\n",
    "    print(f\" Execution Time  : {result['time']:.3f} seconds\")\n"
   ],
   "id": "b7a6970762aabc62",
   "outputs": [],
   "execution_count": 77
  },
  {
   "metadata": {
    "ExecuteTime": {
     "end_time": "2025-05-28T18:21:28.676765Z",
     "start_time": "2025-05-28T18:21:28.668287Z"
    }
   },
   "cell_type": "code",
   "source": "run_dynamic_goal_demo()",
   "id": "9638ed024c7028ca",
   "outputs": [
    {
     "name": "stdout",
     "output_type": "stream",
     "text": [
      "[Step 4] 🚨 Goal discovered at (6, 4)!\n",
      "\n",
      "=== Dynamic Goal Search Summary ===\n",
      " Algorithm       : Dynamic A*\n",
      " Goal Position   : (6, 4)\n",
      " Success         : True\n",
      " Path Cost       : 7\n",
      " Nodes Expanded  : 27\n",
      " Execution Time  : 0.000 seconds\n"
     ]
    }
   ],
   "execution_count": 78
  },
  {
   "metadata": {},
   "cell_type": "markdown",
   "source": "# Task 6: Logging & Live Animation for Drone Navigation",
   "id": "49602fc07a5c4daf"
  },
  {
   "metadata": {},
   "cell_type": "markdown",
   "source": "## Part 1: Logging Framework",
   "id": "e5a8c7fd37294cf2"
  },
  {
   "metadata": {
    "ExecuteTime": {
     "end_time": "2025-05-28T18:21:29.883307Z",
     "start_time": "2025-05-28T18:21:29.872515Z"
    }
   },
   "cell_type": "code",
   "source": [
    "class DroneLogger:\n",
    "    def __init__(self):\n",
    "        self.logs = []\n",
    "        self.replans = []\n",
    "        self.total_nodes_expanded = 0\n",
    "\n",
    "    def log_step(self, step, position, action, fuel, lives):\n",
    "        self.logs.append({\n",
    "            \"step\": step,\n",
    "            \"pos\": position,\n",
    "            \"action\": action,\n",
    "            \"fuel\": fuel,\n",
    "            \"lives\": lives\n",
    "        })\n",
    "\n",
    "    def log_replan(self, step):\n",
    "        self.replans.append(step)\n",
    "\n",
    "    def set_total_expanded(self, count):\n",
    "        self.total_nodes_expanded = count\n",
    "\n",
    "    def print_summary(self):\n",
    "        print(\"\\n==== LOG SUMMARY ====\")\n",
    "        for log in self.logs:\n",
    "            print(f\"Step {log['step']:2}: Pos={log['pos']} | Action={log['action']:<5} | Fuel={log['fuel']} | Lives={log['lives']}\")\n",
    "        print(f\"Replans triggered at: {self.replans}\")\n",
    "        print(f\"Total nodes expanded: {self.total_nodes_expanded}\")\n"
   ],
   "id": "b3c1947f4050c27d",
   "outputs": [],
   "execution_count": 79
  },
  {
   "metadata": {},
   "cell_type": "markdown",
   "source": "## Part 2: Live Animation Function",
   "id": "f149c8f226d109ca"
  },
  {
   "metadata": {
    "ExecuteTime": {
     "end_time": "2025-05-28T18:21:30.803349Z",
     "start_time": "2025-05-28T18:21:30.794761Z"
    }
   },
   "cell_type": "code",
   "source": [
    "import numpy as np\n",
    "\n",
    "\n",
    "def animate_drone_path(path, terrain, goal_pos, logger, delay=0.5, grid_size=15, perception_radius=2):\n",
    "    from IPython.display import clear_output\n",
    "\n",
    "    for i, position in enumerate(path):\n",
    "        clear_output(wait=True)\n",
    "        plt.figure(figsize=(7, 7))\n",
    "        ax = plt.gca()\n",
    "        ax.set_xlim(0, grid_size)\n",
    "        ax.set_ylim(0, grid_size)\n",
    "        ax.set_xticks(np.arange(0, grid_size + 1, 1))\n",
    "        ax.set_yticks(np.arange(0, grid_size + 1, 1))\n",
    "        ax.grid(True)\n",
    "        ax.set_aspect('equal')\n",
    "        ax.invert_yaxis()\n",
    "\n",
    "        # Draw terrain\n",
    "        for (x, y), val in terrain.items():\n",
    "            if val == 'M':\n",
    "                plt.plot(y + 0.5, x + 0.5, 's', color='brown', markersize=20)\n",
    "            elif val == '~':\n",
    "                plt.plot(y + 0.5, x + 0.5, '*', color='purple', markersize=20)\n",
    "            elif val == 'E':\n",
    "                plt.plot(y + 0.5, x + 0.5, '^', color='orange', markersize=20)\n",
    "\n",
    "        # Draw goal\n",
    "        plt.plot(goal_pos[1] + 0.5, goal_pos[0] + 0.5, 'yd', markersize=20, label='Goal')\n",
    "\n",
    "        # Draw perception radius\n",
    "        px, py = position\n",
    "        for dx in range(-perception_radius, perception_radius + 1):\n",
    "            for dy in range(-perception_radius, perception_radius + 1):\n",
    "                nx, ny = px + dx, py + dy\n",
    "                if 0 <= nx < grid_size and 0 <= ny < grid_size:\n",
    "                    plt.plot(ny + 0.5, nx + 0.5, 'o', color='lightgrey', markersize=10, alpha=0.2)\n",
    "\n",
    "        # Draw path trail\n",
    "        for step in path[:i + 1]:\n",
    "            plt.plot(step[1] + 0.5, step[0] + 0.5, 'b.', markersize=10)\n",
    "\n",
    "        # Draw drone\n",
    "        plt.plot(py + 0.5, px + 0.5, 'go', markersize=20, label='Drone')\n",
    "\n",
    "        if i == 0:\n",
    "            plt.legend(loc='upper right')\n",
    "\n",
    "        plt.title(f\"Step {i+1}/{len(path)} | Drone at {position}\")\n",
    "        plt.show()\n",
    "        time.sleep(delay)\n",
    "\n",
    "    print(\"\\n✅ MISSION ACCOMPLISHED\")\n",
    "    print(f\"Lives: {logger.logs[-1]['lives']} | Fuel: {logger.logs[-1]['fuel']} | Nodes Expanded: {logger.total_nodes_expanded}\")\n"
   ],
   "id": "a9c2d7abfbd25383",
   "outputs": [],
   "execution_count": 80
  },
  {
   "metadata": {},
   "cell_type": "markdown",
   "source": "## Part 3: Heuristic Heatmap Visualizer",
   "id": "8e56191494a8c061"
  },
  {
   "metadata": {
    "ExecuteTime": {
     "end_time": "2025-05-28T18:21:31.722708Z",
     "start_time": "2025-05-28T18:21:31.707222Z"
    }
   },
   "cell_type": "code",
   "source": [
    "def plot_heuristic_maps(f_values, g_values, h_values, grid_size=15):\n",
    "    fig, axes = plt.subplots(1, 3, figsize=(18, 5))\n",
    "\n",
    "    maps = [('f(n)', f_values), ('g(n)', g_values), ('h(n)', h_values)]\n",
    "    for ax, (label, value_map) in zip(axes, maps):\n",
    "        heatmap = np.zeros((grid_size, grid_size))\n",
    "        for (x, y), val in value_map.items():\n",
    "            heatmap[x][y] = val\n",
    "        cax = ax.imshow(heatmap, cmap='viridis', interpolation='nearest')\n",
    "        ax.set_title(label)\n",
    "        ax.set_xticks(range(grid_size))\n",
    "        ax.set_yticks(range(grid_size))\n",
    "        fig.colorbar(cax, ax=ax)\n",
    "\n",
    "    plt.suptitle(\"Heuristic Visualizations: f(n), g(n), h(n)\")\n",
    "    plt.show()\n"
   ],
   "id": "347cd83971429a10",
   "outputs": [],
   "execution_count": 81
  },
  {
   "metadata": {},
   "cell_type": "markdown",
   "source": "## drone_a_star() with Logging & Heuristic Tracking Integrated",
   "id": "c50094d41c71e891"
  },
  {
   "metadata": {
    "ExecuteTime": {
     "end_time": "2025-05-28T18:21:32.205919Z",
     "start_time": "2025-05-28T18:21:32.193546Z"
    }
   },
   "cell_type": "code",
   "source": [
    "def drone_a_star_with_logging(start_state, goal_pos, terrain, heuristic_func, logger=None, grid_size=15):\n",
    "    open_list = []\n",
    "    heapq.heappush(open_list, (0, start_state))\n",
    "    came_from = {}\n",
    "    visited = set()\n",
    "    expanded = 0\n",
    "    start_time = time.time()\n",
    "\n",
    "    g_values = {}\n",
    "    h_values = {}\n",
    "    f_values = {}\n",
    "\n",
    "    while open_list:\n",
    "        _, current = heapq.heappop(open_list)\n",
    "        key = (current.x, current.y, current.lives, current.fuel)\n",
    "\n",
    "        if key in visited:\n",
    "            continue\n",
    "        visited.add(key)\n",
    "        expanded += 1\n",
    "\n",
    "        pos = current.position()\n",
    "        g_values[pos] = current.path_cost\n",
    "\n",
    "        # Logging step\n",
    "        if logger:\n",
    "            logger.log_step(current.time_step, pos, action=\"move\", fuel=current.fuel, lives=current.lives)\n",
    "\n",
    "        if pos == goal_pos:\n",
    "            path = reconstruct_path(came_from, current)\n",
    "            if logger:\n",
    "                logger.set_total_expanded(expanded)\n",
    "            return {\n",
    "                \"success\": True,\n",
    "                \"path\": path,\n",
    "                \"path_cost\": current.path_cost,\n",
    "                \"expanded_nodes\": expanded,\n",
    "                \"time\": time.time() - start_time,\n",
    "                \"g_values\": g_values,\n",
    "                \"h_values\": h_values,\n",
    "                \"f_values\": f_values,\n",
    "                \"logger\": logger\n",
    "            }\n",
    "\n",
    "        for child in get_successors(current, terrain, grid_size):\n",
    "            child_key = (child.x, child.y, child.lives, child.fuel)\n",
    "            if child_key in visited:\n",
    "                continue\n",
    "\n",
    "            # Compute heuristic\n",
    "            if heuristic_func == heuristic_h2:\n",
    "                h = heuristic_func(child.position(), goal_pos, child.fuel)\n",
    "            elif heuristic_func == heuristic_h3:\n",
    "                h = heuristic_func(child.position(), goal_pos, child.lives, child.known_storm_map)\n",
    "            elif heuristic_func == heuristic_h5:\n",
    "                h = heuristic_func(child.position(), goal_pos, child.fuel, child.lives,\n",
    "                                   child.known_storm_map, child.known_no_fly_zones, child.time_step)\n",
    "            else:\n",
    "                h = heuristic_func(child.position(), goal_pos)\n",
    "\n",
    "            g = child.path_cost\n",
    "            f = g + h\n",
    "\n",
    "            # Store values for heatmap\n",
    "            g_values[child.position()] = g\n",
    "            h_values[child.position()] = h\n",
    "            f_values[child.position()] = f\n",
    "\n",
    "            heapq.heappush(open_list, (f, child))\n",
    "            came_from[child] = current\n",
    "\n",
    "    return {\n",
    "        \"success\": False,\n",
    "        \"path\": [],\n",
    "        \"path_cost\": None,\n",
    "        \"expanded_nodes\": expanded,\n",
    "        \"time\": time.time() - start_time,\n",
    "        \"g_values\": g_values,\n",
    "        \"h_values\": h_values,\n",
    "        \"f_values\": f_values,\n",
    "        \"logger\": logger\n",
    "    }\n"
   ],
   "id": "770c5638ccf62ae8",
   "outputs": [],
   "execution_count": 82
  },
  {
   "metadata": {},
   "cell_type": "markdown",
   "source": "## Demo Runner With Animation, Logging, and Heatmap",
   "id": "4a234a5bf5194397"
  },
  {
   "metadata": {
    "ExecuteTime": {
     "end_time": "2025-05-28T18:21:32.852042Z",
     "start_time": "2025-05-28T18:21:32.845095Z"
    }
   },
   "cell_type": "code",
   "source": [
    "def run_drone_demo_with_logging_and_visuals():\n",
    "    # Setup\n",
    "    terrain, _, goal_pos = generate_random_terrain()\n",
    "    start_state = init_start_state()\n",
    "    logger = DroneLogger()\n",
    "\n",
    "    print(f\"🎯 Random Goal Location: {goal_pos}\")\n",
    "    result = drone_a_star_with_logging(\n",
    "        start_state=start_state,\n",
    "        goal_pos=goal_pos,\n",
    "        terrain=terrain,\n",
    "        heuristic_func=heuristic_h5,\n",
    "        logger=logger\n",
    "    )\n",
    "\n",
    "    # Logging Summary\n",
    "    logger.print_summary()\n",
    "\n",
    "    # Animation\n",
    "    if result[\"success\"]:\n",
    "        animate_drone_path(\n",
    "            path=result[\"path\"],\n",
    "            terrain=terrain,\n",
    "            goal_pos=goal_pos,\n",
    "            logger=logger,\n",
    "            delay=0.4\n",
    "        )\n",
    "    else:\n",
    "        print(\"❌ Mission failed — no valid path.\")\n",
    "\n",
    "    # Heatmap\n",
    "    plot_heuristic_maps(result[\"f_values\"], result[\"g_values\"], result[\"h_values\"])\n"
   ],
   "id": "967036ac8ebab8dd",
   "outputs": [],
   "execution_count": 83
  },
  {
   "metadata": {},
   "cell_type": "code",
   "source": "run_drone_demo_with_logging_and_visuals()\n",
   "id": "b62152998c377251",
   "execution_count": 84,
   "outputs": [
    {
     "name": "stdout",
     "output_type": "stream",
     "text": [
      "\n",
      "✅ MISSION ACCOMPLISHED\n",
      "Lives: 2 | Fuel: 0 | Nodes Expanded: 12\n"
     ]
    },
    {
     "data": {
      "text/plain": [
       "<Figure size 1800x500 with 6 Axes>"
      ],
      "image/png": "[encoded data removed]"
     },
     "metadata": {},
     "output_type": "display_data"
    }
   ]
  },
  {
   "metadata": {},
   "cell_type": "markdown",
   "source": "## Demo Runner with User Goal + Full Visualization",
   "id": "961853649f415122"
  },
  {
   "metadata": {
    "ExecuteTime": {
     "end_time": "2025-05-28T18:21:40.377779Z",
     "start_time": "2025-05-28T18:21:40.369428Z"
    }
   },
   "cell_type": "code",
   "source": [
    "def run_full_drone_visualization_with_input():\n",
    "    # --- Get goal from user ---\n",
    "    try:\n",
    "        gx = int(input(\"Enter goal X coordinate (0–14): \"))\n",
    "        gy = int(input(\"Enter goal Y coordinate (0–14): \"))\n",
    "        if not (0 <= gx < 15 and 0 <= gy < 15):\n",
    "            print(\"Invalid goal coordinates.\")\n",
    "            return\n",
    "    except ValueError:\n",
    "        print(\"Invalid input.\")\n",
    "        return\n",
    "\n",
    "    goal_pos = (gx, gy)\n",
    "    print(f\"\\n🎯 Using Goal Position: {goal_pos}\")\n",
    "\n",
    "    # --- Prepare environment ---\n",
    "    terrain, _, _ = generate_random_terrain(goal_override=goal_pos)\n",
    "    start_state = init_start_state()\n",
    "    logger = DroneLogger()\n",
    "\n",
    "    # --- Run A* with logging + heuristic tracking ---\n",
    "    result = drone_a_star_with_logging(\n",
    "        start_state=start_state,\n",
    "        goal_pos=goal_pos,\n",
    "        terrain=terrain,\n",
    "        heuristic_func=heuristic_h5,\n",
    "        logger=logger\n",
    "    )\n",
    "\n",
    "    # --- Step-by-step animation ---\n",
    "    if result[\"success\"]:\n",
    "        animate_drone_path(\n",
    "            path=result[\"path\"],\n",
    "            terrain=terrain,\n",
    "            goal_pos=goal_pos,\n",
    "            logger=logger,\n",
    "            delay=0.4\n",
    "        )\n",
    "    else:\n",
    "        print(\"❌ MISSION FAILED: No path found.\")\n",
    "\n",
    "    # --- Log Summary ---\n",
    "    logger.print_summary()\n",
    "\n",
    "    # --- Heuristic Visualization ---\n",
    "    print(\"\\n📊 Generating heuristic maps...\")\n",
    "    plot_heuristic_maps(result[\"f_values\"], result[\"g_values\"], result[\"h_values\"])\n"
   ],
   "id": "c5674fab2d621931",
   "outputs": [],
   "execution_count": 85
  },
  {
   "metadata": {},
   "cell_type": "code",
   "source": "run_full_drone_visualization_with_input()\n",
   "id": "c13d13013b88a859",
   "execution_count": 86,
   "outputs": [
    {
     "name": "stdout",
     "output_type": "stream",
     "text": [
      "\n",
      "✅ MISSION ACCOMPLISHED\n",
      "Lives: 3 | Fuel: 5 | Nodes Expanded: 6\n",
      "\n",
      "==== LOG SUMMARY ====\n",
      "Step  0: Pos=(0, 0) | Action=move  | Fuel=10 | Lives=3\n",
      "Step  1: Pos=(1, 1) | Action=move  | Fuel=9 | Lives=3\n",
      "Step  2: Pos=(2, 2) | Action=move  | Fuel=8 | Lives=3\n",
      "Step  3: Pos=(3, 3) | Action=move  | Fuel=7 | Lives=3\n",
      "Step  4: Pos=(4, 4) | Action=move  | Fuel=6 | Lives=3\n",
      "Step  5: Pos=(5, 5) | Action=move  | Fuel=5 | Lives=3\n",
      "Replans triggered at: []\n",
      "Total nodes expanded: 6\n",
      "\n",
      "📊 Generating heuristic maps...\n"
     ]
    },
    {
     "data": {
      "text/plain": [
       "<Figure size 1800x500 with 6 Axes>"
      ],
      "image/png": "[encoded data removed]"
     },
     "metadata": {},
     "output_type": "display_data"
    }
   ]
  },
  {
   "metadata": {},
   "cell_type": "markdown",
   "source": "## Full Integration: User Input + Terrain Reshuffling + Full Visuals",
   "id": "356b36e4634938f5"
  },
  {
   "metadata": {
    "ExecuteTime": {
     "end_time": "2025-05-28T18:21:52.206425Z",
     "start_time": "2025-05-28T18:21:52.196385Z"
    }
   },
   "cell_type": "code",
   "source": [
    "def run_full_drone_visualization_with_input_and_reshuffling():\n",
    "    try:\n",
    "        gx = int(input(\"Enter goal X coordinate (0–14): \"))\n",
    "        gy = int(input(\"Enter goal Y coordinate (0–14): \"))\n",
    "        if not (0 <= gx < 15 and 0 <= gy < 15):\n",
    "            print(\"Invalid goal coordinates.\")\n",
    "            return\n",
    "    except ValueError:\n",
    "        print(\"Invalid input.\")\n",
    "        return\n",
    "\n",
    "    goal_pos = (gx, gy)\n",
    "    print(f\"\\n🎯 Goal set at: {goal_pos}\")\n",
    "\n",
    "    terrain, _, _ = generate_random_terrain(goal_override=goal_pos)\n",
    "    start_state = init_start_state()\n",
    "    logger = DroneLogger()\n",
    "\n",
    "    open_list = []\n",
    "    heapq.heappush(open_list, (0, start_state))\n",
    "    came_from = {}\n",
    "    visited = set()\n",
    "    expanded = 0\n",
    "    g_values = {}\n",
    "    h_values = {}\n",
    "    f_values = {}\n",
    "    step_count = 0\n",
    "\n",
    "    while open_list:\n",
    "        _, current = heapq.heappop(open_list)\n",
    "        key = (current.x, current.y, current.lives, current.fuel)\n",
    "\n",
    "        if key in visited:\n",
    "            continue\n",
    "        visited.add(key)\n",
    "        expanded += 1\n",
    "        pos = current.position()\n",
    "        g_values[pos] = current.path_cost\n",
    "\n",
    "        logger.log_step(current.time_step, pos, action=\"move\", fuel=current.fuel, lives=current.lives)\n",
    "\n",
    "        if pos == goal_pos:\n",
    "            path = reconstruct_path(came_from, current)\n",
    "            logger.set_total_expanded(expanded)\n",
    "\n",
    "            animate_drone_path(path, terrain, goal_pos, logger, delay=0.4)\n",
    "            logger.print_summary()\n",
    "            plot_heuristic_maps(f_values, g_values, h_values)\n",
    "            return\n",
    "\n",
    "        # Reshuffle terrain every 10 steps\n",
    "        if current.time_step > 0 and current.time_step % 10 == 0:\n",
    "            terrain, _, _ = generate_random_terrain(goal_override=goal_pos)\n",
    "            logger.log_replan(current.time_step)\n",
    "            visited = set()  # allow replanning to revisit\n",
    "\n",
    "        for child in get_successors(current, terrain):\n",
    "            child_key = (child.x, child.y, child.lives, child.fuel)\n",
    "            if child_key in visited:\n",
    "                continue\n",
    "\n",
    "            # Compute heuristic\n",
    "            if heuristic_h5 == heuristic_h2:\n",
    "                h = heuristic_h2(child.position(), goal_pos, child.fuel)\n",
    "            elif heuristic_h5 == heuristic_h3:\n",
    "                h = heuristic_h3(child.position(), goal_pos, child.lives, child.known_storm_map)\n",
    "            else:\n",
    "                h = heuristic_h5(child.position(), goal_pos, child.fuel, child.lives,\n",
    "                                 child.known_storm_map, child.known_no_fly_zones, child.time_step)\n",
    "\n",
    "            g = child.path_cost\n",
    "            f = g + h\n",
    "\n",
    "            g_values[child.position()] = g\n",
    "            h_values[child.position()] = h\n",
    "            f_values[child.position()] = f\n",
    "\n",
    "            heapq.heappush(open_list, (f, child))\n",
    "            came_from[child] = current\n",
    "\n",
    "    print(\"❌ MISSION FAILED: No path found.\")\n"
   ],
   "id": "a554eba465918426",
   "outputs": [],
   "execution_count": 87
  },
  {
   "metadata": {},
   "cell_type": "code",
   "source": "run_full_drone_visualization_with_input_and_reshuffling()\n",
   "id": "72186c5e7dc2ff30",
   "execution_count": 88,
   "outputs": [
    {
     "name": "stdout",
     "output_type": "stream",
     "text": [
      "\n",
      "✅ MISSION ACCOMPLISHED\n",
      "Lives: 3 | Fuel: 5 | Nodes Expanded: 6\n",
      "\n",
      "==== LOG SUMMARY ====\n",
      "Step  0: Pos=(0, 0) | Action=move  | Fuel=10 | Lives=3\n",
      "Step  1: Pos=(1, 1) | Action=move  | Fuel=9 | Lives=3\n",
      "Step  2: Pos=(2, 2) | Action=move  | Fuel=8 | Lives=3\n",
      "Step  3: Pos=(3, 3) | Action=move  | Fuel=7 | Lives=3\n",
      "Step  4: Pos=(4, 4) | Action=move  | Fuel=6 | Lives=3\n",
      "Step  5: Pos=(5, 5) | Action=move  | Fuel=5 | Lives=3\n",
      "Replans triggered at: []\n",
      "Total nodes expanded: 6\n"
     ]
    },
    {
     "data": {
      "text/plain": [
       "<Figure size 1800x500 with 6 Axes>"
      ],
      "image/png": "[encoded data removed]"
     },
     "metadata": {},
     "output_type": "display_data"
    }
   ]
  },
  {
   "metadata": {},
   "cell_type": "markdown",
   "source": "## Final Function: plot_annotated_drone_path_map()",
   "id": "4fc0b1ac31396ff6"
  },
  {
   "metadata": {
    "ExecuteTime": {
     "end_time": "2025-05-28T18:22:07.428691Z",
     "start_time": "2025-05-28T18:22:07.416819Z"
    }
   },
   "cell_type": "code",
   "source": [
    "import matplotlib.pyplot as plt\n",
    "import numpy as np\n",
    "from matplotlib import cm\n",
    "\n",
    "def plot_annotated_drone_path_map(path, terrain, goal_pos, grid_size=15):\n",
    "    fig, ax = plt.subplots(figsize=(7, 7))\n",
    "    ax.set_xlim(0, grid_size)\n",
    "    ax.set_ylim(0, grid_size)\n",
    "    ax.set_xticks(range(grid_size))\n",
    "    ax.set_yticks(range(grid_size))\n",
    "    ax.grid(True)\n",
    "    ax.set_aspect('equal')\n",
    "    ax.invert_yaxis()\n",
    "    ax.set_facecolor(\"black\")\n",
    "\n",
    "    # Draw terrain features\n",
    "    for (x, y), val in terrain.items():\n",
    "        if val == 'M':\n",
    "            ax.plot(y + 0.5, x + 0.5, 's', color='salmon', markersize=10)\n",
    "        elif val == '~':\n",
    "            ax.plot(y + 0.5, x + 0.5, '*', color='red', markersize=10)\n",
    "        elif val == 'E':\n",
    "            ax.plot(y + 0.5, x + 0.5, '^', color='blue', markersize=10)\n",
    "\n",
    "    # Plot start and goal\n",
    "    sx, sy = path[0]\n",
    "    gx, gy = goal_pos\n",
    "    ax.plot(sy + 0.5, sx + 0.5, 'go', markersize=10, label='Start')\n",
    "    ax.plot(gy + 0.5, gx + 0.5, 'r*', markersize=12, label='Goal')\n",
    "\n",
    "    # Generate colormap for path steps\n",
    "    norm = plt.Normalize(0, len(path))\n",
    "    colors = cm.viridis(norm(range(len(path))))\n",
    "\n",
    "    # Draw path with color gradient and step numbers\n",
    "    for i in range(1, len(path)):\n",
    "        x0, y0 = path[i-1]\n",
    "        x1, y1 = path[i]\n",
    "        ax.plot([y0 + 0.5, y1 + 0.5], [x0 + 0.5, x1 + 0.5], color=colors[i], linewidth=2)\n",
    "\n",
    "        # Label with step number\n",
    "        ax.text(y1 + 0.3, x1 + 0.3, str(i), fontsize=7, color='white')\n",
    "\n",
    "    ax.legend(loc='lower center')\n",
    "    plt.title(\"Drone Path Map with Step Numbers and Color-Coded Trail\")\n",
    "    plt.show()\n"
   ],
   "id": "ec0726f694f06d4",
   "outputs": [],
   "execution_count": 91
  },
  {
   "metadata": {
    "ExecuteTime": {
     "end_time": "2025-05-28T18:25:04.232203Z",
     "start_time": "2025-05-28T18:25:04.225239Z"
    }
   },
   "cell_type": "code",
   "source": [
    "def drone_path_plot_from_user_goal():\n",
    "    # Step 1: Get user goal\n",
    "    try:\n",
    "        gx = int(input(\"Enter goal X coordinate (0–14): \"))\n",
    "        gy = int(input(\"Enter goal Y coordinate (0–14): \"))\n",
    "        if not (0 <= gx < 15 and 0 <= gy < 15):\n",
    "            print(\"Invalid goal coordinates.\")\n",
    "            return\n",
    "    except ValueError:\n",
    "        print(\"Invalid input.\")\n",
    "        return\n",
    "\n",
    "    goal_pos = (gx, gy)\n",
    "    print(f\"🎯 Goal set at: {goal_pos}\")\n",
    "\n",
    "    # Step 2: Setup and solve\n",
    "    terrain, _, _ = generate_random_terrain(goal_override=goal_pos)\n",
    "    start_state = init_start_state()\n",
    "\n",
    "    result = drone_a_star_with_logging(\n",
    "        start_state=start_state,\n",
    "        goal_pos=goal_pos,\n",
    "        terrain=terrain,\n",
    "        heuristic_func=heuristic_h5,\n",
    "        logger=None\n",
    "    )\n",
    "\n",
    "    if not result[\"success\"]:\n",
    "        print(\"❌ No path found.\")\n",
    "        return\n",
    "\n",
    "    # Step 3: Plot with annotation\n",
    "    plot_annotated_drone_path_map(\n",
    "        path=result[\"path\"],\n",
    "        terrain=terrain,\n",
    "        goal_pos=goal_pos\n",
    "    )\n"
   ],
   "id": "a4b6d1ea626cfc97",
   "outputs": [],
   "execution_count": 93
  },
  {
   "metadata": {
    "ExecuteTime": {
     "end_time": "2025-05-28T18:28:50.116634Z",
     "start_time": "2025-05-28T18:28:38.476314Z"
    }
   },
   "cell_type": "code",
   "source": "drone_path_plot_from_user_goal()\n",
   "id": "26425a3d09e7056c",
   "outputs": [
    {
     "name": "stdout",
     "output_type": "stream",
     "text": [
      "🎯 Goal set at: (10, 4)\n"
     ]
    },
    {
     "data": {
      "text/plain": [
       "<Figure size 700x700 with 1 Axes>"
      ],
      "image/png": "[encoded data removed]"
     },
     "metadata": {},
     "output_type": "display_data"
    }
   ],
   "execution_count": 95
  }
 ],
 "metadata": {
  "kernelspec": {
   "display_name": "Python [conda env:base] *",
   "language": "python",
   "name": "conda-base-py"
  },
  "language_info": {
   "codemirror_mode": {
    "name": "ipython",
    "version": 2
   },
   "file_extension": ".py",
   "mimetype": "text/x-python",
   "name": "python",
   "nbconvert_exporter": "python",
   "pygments_lexer": "ipython2",
   "version": "2.7.6"
  }
 },
 "nbformat": 4,
 "nbformat_minor": 5
}
