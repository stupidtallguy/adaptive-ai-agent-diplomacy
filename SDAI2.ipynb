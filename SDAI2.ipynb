{
 "cells": [
  {
   "metadata": {},
   "cell_type": "markdown",
   "source": [
    "# Part A1: Define the Problem Setup\n",
    "We'll start by:\n",
    "\n",
    "Defining days, time slots, and rooms\n",
    "\n",
    "Listing the factions\n",
    "\n",
    "Generating the domains: All valid (day, time, room) slots"
   ],
   "id": "74e2d1b394eed12c"
  },
  {
   "metadata": {
    "ExecuteTime": {
     "end_time": "2025-05-28T16:35:36.713379Z",
     "start_time": "2025-05-28T16:35:36.703228Z"
    }
   },
   "cell_type": "code",
   "source": [
    "import itertools\n",
    "\n",
    "# Summit setup\n",
    "days = ['Day1', 'Day2', 'Day3']\n",
    "rooms = ['Room1', 'Room2', 'Room3']\n",
    "factions = ['F1', 'F2', 'F3', 'F4', 'F5', 'F6']\n",
    "\n",
    "# 9 total (day, room) session slots\n",
    "slots = [(day, room) for day in days for room in rooms]\n",
    "\n",
    "# Generate all unique faction pairs (unordered, no repeats)\n",
    "faction_pairs = list(itertools.combinations(factions, 2))\n",
    "\n",
    "# We'll only need 9 of them for 9 sessions\n",
    "session_vars = faction_pairs[:9]  # Note: we'll later refine this to ensure balance\n",
    "\n",
    "# Domains: every faction pair can be assigned to any session slot\n",
    "domains = {var: slots.copy() for var in session_vars}\n",
    "\n",
    "# Print summary\n",
    "print(\"Total slots:\", len(slots))\n",
    "print(\"Session Variables (Faction Pairs):\", session_vars)\n"
   ],
   "id": "be3e3bc924e8f7b5",
   "outputs": [
    {
     "name": "stdout",
     "output_type": "stream",
     "text": [
      "Total slots: 9\n",
      "Session Variables (Faction Pairs): [('F1', 'F2'), ('F1', 'F3'), ('F1', 'F4'), ('F1', 'F5'), ('F1', 'F6'), ('F2', 'F3'), ('F2', 'F4'), ('F2', 'F5'), ('F2', 'F6')]\n"
     ]
    }
   ],
   "execution_count": 1
  },
  {
   "metadata": {},
   "cell_type": "markdown",
   "source": [
    "# Part A2: Generate Valid Faction Pairs (Each Faction Appears Exactly 3 Times)\n",
    "We need 9 unique pairs, where:\n",
    "\n",
    "Each faction appears in exactly 3 of them\n",
    "\n",
    "No repeated matchups\n",
    "\n",
    "This is a well-known balanced graph matching problem. Here's a small brute-force approach that tries combinations until one fits the 3-per-faction rule."
   ],
   "id": "9d6334333bf74dea"
  },
  {
   "metadata": {
    "ExecuteTime": {
     "end_time": "2025-05-28T16:35:42.426399Z",
     "start_time": "2025-05-28T16:35:42.417959Z"
    }
   },
   "cell_type": "code",
   "source": [
    "from itertools import combinations\n",
    "import random\n",
    "\n",
    "factions = ['F1', 'F2', 'F3', 'F4', 'F5', 'F6']\n",
    "all_pairs = list(combinations(factions, 2))\n",
    "\n",
    "# Try random selections until one satisfies the 3-per-faction constraint\n",
    "def generate_valid_pairs():\n",
    "    attempts = 0\n",
    "    while attempts < 10000:\n",
    "        sample = random.sample(all_pairs, 9)\n",
    "        freq = {f: 0 for f in factions}\n",
    "        for f1, f2 in sample:\n",
    "            freq[f1] += 1\n",
    "            freq[f2] += 1\n",
    "        if all(v == 3 for v in freq.values()):\n",
    "            return sample\n",
    "        attempts += 1\n",
    "    return None\n",
    "\n",
    "session_vars = generate_valid_pairs()\n",
    "if session_vars is None:\n",
    "    print(\"Failed to generate valid faction pairs.\")\n",
    "else:\n",
    "    print(\"✅ Valid faction pairs generated:\")\n",
    "    for pair in session_vars:\n",
    "        print(pair)\n"
   ],
   "id": "2d960990fa08ead9",
   "outputs": [
    {
     "name": "stdout",
     "output_type": "stream",
     "text": [
      "✅ Valid faction pairs generated:\n",
      "('F1', 'F4')\n",
      "('F1', 'F6')\n",
      "('F3', 'F5')\n",
      "('F2', 'F5')\n",
      "('F1', 'F5')\n",
      "('F2', 'F4')\n",
      "('F3', 'F6')\n",
      "('F2', 'F3')\n",
      "('F4', 'F6')\n"
     ]
    }
   ],
   "execution_count": 2
  },
  {
   "metadata": {},
   "cell_type": "markdown",
   "source": [
    "# Part A3: Define CSP Constraint Checker\n",
    "This function enforces:\n",
    "\n",
    "❌ No faction meets another more than once (already handled via unique pairs)\n",
    "\n",
    "❌ A faction can't be in two sessions on the same day (rest gap)\n",
    "\n",
    "❌ No faction reuses the same room in consecutive days\n",
    "\n",
    "❌ Rival factions (assume you define them) only meet in neutral rooms"
   ],
   "id": "1cf3e6c85dec1973"
  },
  {
   "metadata": {
    "ExecuteTime": {
     "end_time": "2025-05-28T16:35:43.725932Z",
     "start_time": "2025-05-28T16:35:43.719747Z"
    }
   },
   "cell_type": "code",
   "source": [
    "def violates_constraints(assignments, var, value):\n",
    "    assigned_day, assigned_room = value\n",
    "    f1, f2 = var\n",
    "\n",
    "    for other_var, other_value in assignments.items():\n",
    "        if other_value is None:\n",
    "            continue\n",
    "        od, oroom = other_value\n",
    "        of1, of2 = other_var\n",
    "\n",
    "        # Constraint: same day conflict\n",
    "        if (f1 in other_var or f2 in other_var) and assigned_day == od:\n",
    "            return True\n",
    "\n",
    "        # Constraint: consecutive room reuse\n",
    "        if f1 in other_var or f2 in other_var:\n",
    "            d_index = {'Day1': 0, 'Day2': 1, 'Day3': 2}\n",
    "            if abs(d_index[assigned_day] - d_index[od]) == 1 and assigned_room == oroom:\n",
    "                return True\n",
    "\n",
    "        # Optional: neutral rooms (implement later when rivals are defined)\n",
    "        # if (f1, f2) in rivals and assigned_room not in neutral_rooms:\n",
    "        #     return True\n",
    "\n",
    "    return False\n"
   ],
   "id": "22e176d84210676e",
   "outputs": [],
   "execution_count": 3
  },
  {
   "metadata": {},
   "cell_type": "markdown",
   "source": "# Part A4: CSP Solver with MRV and Forward Checking",
   "id": "94b000cd2cc5c950"
  },
  {
   "metadata": {
    "ExecuteTime": {
     "end_time": "2025-05-28T16:35:44.590872Z",
     "start_time": "2025-05-28T16:35:44.577241Z"
    }
   },
   "cell_type": "code",
   "source": [
    "import copy\n",
    "\n",
    "# Minimum Remaining Values (MRV) heuristic\n",
    "def select_unassigned_variable(assignment, domains):\n",
    "    unassigned = [v for v in domains if v not in assignment]\n",
    "    return min(unassigned, key=lambda var: len(domains[var]))\n",
    "\n",
    "# Order domain values (no LCV needed here, just natural order)\n",
    "def order_domain_values(var, domains):\n",
    "    return domains[var]\n",
    "\n",
    "# Forward checking: remove invalid domain values from neighbors\n",
    "def forward_check(var, value, domains, assignment):\n",
    "    temp_domains = copy.deepcopy(domains)\n",
    "    for neighbor in temp_domains:\n",
    "        if neighbor not in assignment:\n",
    "            new_domain = []\n",
    "            for val in temp_domains[neighbor]:\n",
    "                test_assignment = assignment.copy()\n",
    "                test_assignment[var] = value\n",
    "                if not violates_constraints(test_assignment, neighbor, val):\n",
    "                    new_domain.append(val)\n",
    "            temp_domains[neighbor] = new_domain\n",
    "            if not new_domain:\n",
    "                return None  # Dead end\n",
    "    return temp_domains\n",
    "\n",
    "# Backtracking search with MRV + forward checking\n",
    "def backtrack(assignment, domains):\n",
    "    if len(assignment) == len(domains):\n",
    "        return assignment\n",
    "\n",
    "    var = select_unassigned_variable(assignment, domains)\n",
    "    for value in order_domain_values(var, domains):\n",
    "        if not violates_constraints(assignment, var, value):\n",
    "            assignment[var] = value\n",
    "            new_domains = forward_check(var, value, domains, assignment)\n",
    "            if new_domains is not None:\n",
    "                result = backtrack(assignment, new_domains)\n",
    "                if result:\n",
    "                    return result\n",
    "            del assignment[var]\n",
    "    return None\n"
   ],
   "id": "8f845049219fb0b",
   "outputs": [],
   "execution_count": 4
  },
  {
   "metadata": {},
   "cell_type": "markdown",
   "source": "# Part A5: Run the Solver and Display Final Schedule",
   "id": "d4efc3b91e4a645"
  },
  {
   "metadata": {
    "ExecuteTime": {
     "end_time": "2025-05-28T16:35:45.435832Z",
     "start_time": "2025-05-28T16:35:45.415893Z"
    }
   },
   "cell_type": "code",
   "source": [
    "# Initialize domains (all slots available initially)\n",
    "slots = [(day, room) for day in days for room in rooms]\n",
    "domains = {var: slots.copy() for var in session_vars}\n",
    "\n",
    "# Start solving\n",
    "assignment = {}\n",
    "solution = backtrack(assignment, domains)\n",
    "\n",
    "# Display result\n",
    "if solution:\n",
    "    print(\"\\n✅ Final 3D Schedule:\")\n",
    "    for session, slot in sorted(solution.items(), key=lambda x: x[1]):\n",
    "        print(f\"{slot[0]} | {slot[1]} → {session[0]} vs {session[1]}\")\n",
    "else:\n",
    "    print(\"❌ No valid schedule found.\")\n"
   ],
   "id": "9e204bcbc1de228f",
   "outputs": [
    {
     "name": "stdout",
     "output_type": "stream",
     "text": [
      "\n",
      "✅ Final 3D Schedule:\n",
      "Day1 | Room1 → F1 vs F4\n",
      "Day1 | Room1 → F2 vs F5\n",
      "Day1 | Room1 → F3 vs F6\n",
      "Day2 | Room2 → F1 vs F6\n",
      "Day2 | Room2 → F2 vs F4\n",
      "Day2 | Room2 → F3 vs F5\n",
      "Day3 | Room1 → F1 vs F5\n",
      "Day3 | Room1 → F4 vs F6\n",
      "Day3 | Room1 → F2 vs F3\n"
     ]
    }
   ],
   "execution_count": 5
  },
  {
   "metadata": {},
   "cell_type": "markdown",
   "source": [
    "# Part A6: Implement Arc Consistency (AC-3)\n",
    "Arc Consistency means:\n",
    "\n",
    "For every variable A, and every neighbor B, for each value in A’s domain, there exists some consistent value in B’s domain."
   ],
   "id": "2c0dbb23756bb7b9"
  },
  {
   "metadata": {
    "ExecuteTime": {
     "end_time": "2025-05-28T16:35:46.239355Z",
     "start_time": "2025-05-28T16:35:46.230279Z"
    }
   },
   "cell_type": "code",
   "source": [
    "from collections import deque\n",
    "\n",
    "def ac3(domains, constraints_func):\n",
    "    queue = deque([(xi, xj) for xi in domains for xj in domains if xi != xj])\n",
    "\n",
    "    while queue:\n",
    "        xi, xj = queue.popleft()\n",
    "        if revise(domains, xi, xj, constraints_func):\n",
    "            if not domains[xi]:\n",
    "                return False  # Domain wiped out\n",
    "            for xk in domains:\n",
    "                if xk != xi and xk != xj:\n",
    "                    queue.append((xk, xi))\n",
    "    return True\n",
    "\n",
    "def revise(domains, xi, xj, constraints_func):\n",
    "    revised = False\n",
    "    new_domain = []\n",
    "    for x in domains[xi]:\n",
    "        # Keep x only if there is some y in xj's domain that satisfies constraints\n",
    "        if any(not constraints_func({xi: x}, xj, y) for y in domains[xj]):\n",
    "            new_domain.append(x)\n",
    "        else:\n",
    "            revised = True\n",
    "    domains[xi] = new_domain\n",
    "    return revised\n"
   ],
   "id": "e9d8252ebd41f75e",
   "outputs": [],
   "execution_count": 6
  },
  {
   "metadata": {},
   "cell_type": "markdown",
   "source": "# Part A7: Integrate AC-3 Before Backtracking",
   "id": "20b9c6222b8833b8"
  },
  {
   "metadata": {
    "ExecuteTime": {
     "end_time": "2025-05-28T16:35:47.428883Z",
     "start_time": "2025-05-28T16:35:47.411492Z"
    }
   },
   "cell_type": "code",
   "source": [
    "# Reinitialize domains\n",
    "domains = {var: slots.copy() for var in session_vars}\n",
    "\n",
    "# Apply AC-3 before starting backtracking\n",
    "success = ac3(domains, violates_constraints)\n",
    "\n",
    "if not success:\n",
    "    print(\"❌ AC-3 failed: inconsistency detected before search.\")\n",
    "else:\n",
    "    assignment = {}\n",
    "    solution = backtrack(assignment, domains)\n",
    "\n",
    "    if solution:\n",
    "        print(\"\\n✅ Final 3D Schedule with AC-3:\")\n",
    "        for session, slot in sorted(solution.items(), key=lambda x: x[1]):\n",
    "            print(f\"{slot[0]} | {slot[1]} → {session[0]} vs {session[1]}\")\n",
    "    else:\n",
    "        print(\"❌ No valid schedule found (after AC-3).\")\n"
   ],
   "id": "a1b9d3969af6d0d",
   "outputs": [
    {
     "name": "stdout",
     "output_type": "stream",
     "text": [
      "\n",
      "✅ Final 3D Schedule with AC-3:\n",
      "Day1 | Room1 → F1 vs F4\n",
      "Day1 | Room1 → F2 vs F5\n",
      "Day1 | Room1 → F3 vs F6\n",
      "Day2 | Room2 → F1 vs F6\n",
      "Day2 | Room2 → F2 vs F4\n",
      "Day2 | Room2 → F3 vs F5\n",
      "Day3 | Room1 → F1 vs F5\n",
      "Day3 | Room1 → F4 vs F6\n",
      "Day3 | Room1 → F2 vs F3\n"
     ]
    }
   ],
   "execution_count": 7
  },
  {
   "metadata": {},
   "cell_type": "markdown",
   "source": [
    "# Step A8: Destroy a Room Randomly\n",
    "This code randomly destroys a session's room and triggers repair"
   ],
   "id": "d29b0c8279b80506"
  },
  {
   "metadata": {
    "ExecuteTime": {
     "end_time": "2025-05-28T16:35:48.150106Z",
     "start_time": "2025-05-28T16:35:48.139792Z"
    }
   },
   "cell_type": "code",
   "source": [
    "import random\n",
    "\n",
    "def destroy_random_room(solution, domains):\n",
    "    # Choose a session to destroy its room\n",
    "    broken_var = random.choice(list(solution.keys()))\n",
    "    broken_slot = solution[broken_var]\n",
    "\n",
    "    print(f\"\\n⚠️ Room Destruction: {broken_slot[1]} on {broken_slot[0]} for session {broken_var}\")\n",
    "\n",
    "    # Remove the broken assignment\n",
    "    del solution[broken_var]\n",
    "\n",
    "    # Mark the (day, room) as unavailable\n",
    "    unavailable_slot = broken_slot\n",
    "\n",
    "    # Remove that slot from all domains\n",
    "    for var in domains:\n",
    "        domains[var] = [s for s in domains[var] if s != unavailable_slot]\n",
    "\n",
    "    return broken_var, unavailable_slot\n"
   ],
   "id": "7d78dba646c2df65",
   "outputs": [],
   "execution_count": 8
  },
  {
   "metadata": {},
   "cell_type": "markdown",
   "source": [
    "Step A9: Repair Only the Affected Assignment\n",
    "We’ll reuse the backtrack method, but restrict it to just the broken session"
   ],
   "id": "9a95809153e76a02"
  },
  {
   "metadata": {
    "ExecuteTime": {
     "end_time": "2025-05-28T16:35:48.993945Z",
     "start_time": "2025-05-28T16:35:48.985170Z"
    }
   },
   "cell_type": "code",
   "source": [
    "def repair_assignment(broken_var, solution, domains):\n",
    "    # Try to assign a new slot to the broken session\n",
    "    for value in domains[broken_var]:\n",
    "        if not violates_constraints(solution, broken_var, value):\n",
    "            solution[broken_var] = value\n",
    "            return True\n",
    "    return False\n"
   ],
   "id": "da1ecef3bff530e8",
   "outputs": [],
   "execution_count": 9
  },
  {
   "metadata": {},
   "cell_type": "markdown",
   "source": "# Full Simulation",
   "id": "4f0bf3f88e63225b"
  },
  {
   "metadata": {
    "ExecuteTime": {
     "end_time": "2025-05-28T16:35:49.930264Z",
     "start_time": "2025-05-28T16:35:49.913428Z"
    }
   },
   "cell_type": "code",
   "source": [
    "# Initial solve with AC-3\n",
    "domains = {var: slots.copy() for var in session_vars}\n",
    "ac3(domains, violates_constraints)\n",
    "assignment = {}\n",
    "solution = backtrack(assignment, domains)\n",
    "\n",
    "if solution:\n",
    "    print(\"\\n✅ Original Schedule:\")\n",
    "    for session, slot in sorted(solution.items(), key=lambda x: x[1]):\n",
    "        print(f\"{slot[0]} | {slot[1]} → {session[0]} vs {session[1]}\")\n",
    "\n",
    "    # Simulate dynamic room destruction\n",
    "    broken_var, removed_slot = destroy_random_room(solution, domains)\n",
    "\n",
    "    success = repair_assignment(broken_var, solution, domains)\n",
    "\n",
    "    if success:\n",
    "        print(\"\\n🔁 Repaired Schedule:\")\n",
    "        for session, slot in sorted(solution.items(), key=lambda x: x[1]):\n",
    "            print(f\"{slot[0]} | {slot[1]} → {session[0]} vs {session[1]}\")\n",
    "    else:\n",
    "        print(f\"❌ Could not repair the schedule after destroying {removed_slot}\")\n",
    "else:\n",
    "    print(\"❌ No valid initial schedule found.\")\n"
   ],
   "id": "79646c783e66b8dc",
   "outputs": [
    {
     "name": "stdout",
     "output_type": "stream",
     "text": [
      "\n",
      "✅ Original Schedule:\n",
      "Day1 | Room1 → F1 vs F4\n",
      "Day1 | Room1 → F2 vs F5\n",
      "Day1 | Room1 → F3 vs F6\n",
      "Day2 | Room2 → F1 vs F6\n",
      "Day2 | Room2 → F2 vs F4\n",
      "Day2 | Room2 → F3 vs F5\n",
      "Day3 | Room1 → F1 vs F5\n",
      "Day3 | Room1 → F4 vs F6\n",
      "Day3 | Room1 → F2 vs F3\n",
      "\n",
      "⚠️ Room Destruction: Room2 on Day2 for session ('F3', 'F5')\n",
      "\n",
      "🔁 Repaired Schedule:\n",
      "Day1 | Room1 → F1 vs F4\n",
      "Day1 | Room1 → F2 vs F5\n",
      "Day1 | Room1 → F3 vs F6\n",
      "Day2 | Room2 → F1 vs F6\n",
      "Day2 | Room2 → F2 vs F4\n",
      "Day2 | Room3 → F3 vs F5\n",
      "Day3 | Room1 → F1 vs F5\n",
      "Day3 | Room1 → F4 vs F6\n",
      "Day3 | Room1 → F2 vs F3\n"
     ]
    }
   ],
   "execution_count": 10
  },
  {
   "metadata": {},
   "cell_type": "markdown",
   "source": "# Task B1: Define Qualities, Actions, and Evaluation Function",
   "id": "ba249e7119258635"
  },
  {
   "metadata": {
    "ExecuteTime": {
     "end_time": "2025-05-28T16:36:29.840991Z",
     "start_time": "2025-05-28T16:36:29.836567Z"
    }
   },
   "cell_type": "code",
   "source": [
    "# Qualities of rooms (bias): neutral or owned (simulate numeric bias)\n",
    "room_quality = {'Room1': 3, 'Room2': 2, 'Room3': 1}\n",
    "\n",
    "# Time slots implied from session order (early = better)\n",
    "slot_quality = {'Early': 3, 'Mid': 2, 'Late': 1}\n",
    "\n",
    "# Actions in negotiation\n",
    "actions = ['Offer', 'Threaten', 'Bluff', 'Concede', 'Delay']\n"
   ],
   "id": "f2a8ea48b924b18b",
   "outputs": [],
   "execution_count": 11
  },
  {
   "metadata": {},
   "cell_type": "markdown",
   "source": "# Task B2: Evaluation Function",
   "id": "47f41033b746e224"
  },
  {
   "metadata": {
    "ExecuteTime": {
     "end_time": "2025-05-28T16:36:50.062410Z",
     "start_time": "2025-05-28T16:36:50.041089Z"
    }
   },
   "cell_type": "code",
   "source": [
    "def evaluate_state(state, player, fatigue, trust_level):\n",
    "    \"\"\"\n",
    "    Evaluate utility for a faction in negotiation.\n",
    "    \"\"\"\n",
    "    room = state['room']\n",
    "    slot = state['slot']  # Early/Mid/Late\n",
    "    acting = state['player']\n",
    "\n",
    "    score = 0\n",
    "    score += room_quality.get(room, 0)\n",
    "    score += slot_quality.get(slot, 0)\n",
    "    score += trust_level\n",
    "    score -= fatigue\n",
    "\n",
    "    return score if acting == player else -score\n"
   ],
   "id": "d1a551c2ea63d897",
   "outputs": [],
   "execution_count": 12
  },
  {
   "metadata": {},
   "cell_type": "markdown",
   "source": "# Task B3: Generate Next Game States",
   "id": "6cf40b614c1b41c8"
  },
  {
   "metadata": {
    "ExecuteTime": {
     "end_time": "2025-05-28T16:37:13.830473Z",
     "start_time": "2025-05-28T16:37:13.819637Z"
    }
   },
   "cell_type": "code",
   "source": [
    "def generate_children(state, depth, player):\n",
    "    \"\"\"\n",
    "    Create all possible next states by applying actions.\n",
    "    \"\"\"\n",
    "    children = []\n",
    "    for action in actions:\n",
    "        new_room = state['room']\n",
    "        new_slot = state['slot']\n",
    "\n",
    "        if action == 'Offer':\n",
    "            new_room = 'Room1'\n",
    "            new_slot = 'Early'\n",
    "        elif action == 'Threaten':\n",
    "            new_room = 'Room2'\n",
    "        elif action == 'Bluff':\n",
    "            new_room = 'Room3'\n",
    "        elif action in ['Concede', 'Delay']:\n",
    "            pass  # No change\n",
    "\n",
    "        next_player = 'B' if state['player'] == 'A' else 'A'\n",
    "\n",
    "        children.append({\n",
    "            'room': new_room,\n",
    "            'slot': new_slot,\n",
    "            'player': next_player,\n",
    "            'action': action\n",
    "        })\n",
    "    return children\n"
   ],
   "id": "fae704187fc03a47",
   "outputs": [],
   "execution_count": 13
  },
  {
   "metadata": {},
   "cell_type": "markdown",
   "source": "# Task B4: Minimax and Alpha-Beta",
   "id": "dc297a9af2b5fd90"
  },
  {
   "metadata": {
    "ExecuteTime": {
     "end_time": "2025-05-28T16:37:52.916245Z",
     "start_time": "2025-05-28T16:37:52.910036Z"
    }
   },
   "cell_type": "code",
   "source": [
    "nodes_expanded = 0\n",
    "\n",
    "def minimax(state, depth, player, fatigue, trust_level, maximizing):\n",
    "    global nodes_expanded\n",
    "    nodes_expanded += 1\n",
    "\n",
    "    if depth == 0:\n",
    "        return evaluate_state(state, player, fatigue, trust_level), state\n",
    "\n",
    "    best_value = float('-inf') if maximizing else float('inf')\n",
    "    best_state = None\n",
    "\n",
    "    for child in generate_children(state, depth, player):\n",
    "        val, _ = minimax(child, depth-1, player, fatigue+1, trust_level, not maximizing)\n",
    "        if maximizing and val > best_value:\n",
    "            best_value, best_state = val, child\n",
    "        elif not maximizing and val < best_value:\n",
    "            best_value, best_state = val, child\n",
    "\n",
    "    return best_value, best_state\n"
   ],
   "id": "2d5d460e3d39b77",
   "outputs": [],
   "execution_count": 14
  },
  {
   "metadata": {
    "ExecuteTime": {
     "end_time": "2025-05-28T16:38:00.016531Z",
     "start_time": "2025-05-28T16:38:00.004380Z"
    }
   },
   "cell_type": "code",
   "source": [
    "nodes_alpha_beta = 0\n",
    "\n",
    "def alphabeta(state, depth, alpha, beta, player, fatigue, trust_level, maximizing):\n",
    "    global nodes_alpha_beta\n",
    "    nodes_alpha_beta += 1\n",
    "\n",
    "    if depth == 0:\n",
    "        return evaluate_state(state, player, fatigue, trust_level), state\n",
    "\n",
    "    best_state = None\n",
    "    if maximizing:\n",
    "        value = float('-inf')\n",
    "        for child in generate_children(state, depth, player):\n",
    "            val, _ = alphabeta(child, depth-1, alpha, beta, player, fatigue+1, trust_level, False)\n",
    "            if val > value:\n",
    "                value, best_state = val, child\n",
    "            alpha = max(alpha, value)\n",
    "            if alpha >= beta:\n",
    "                break\n",
    "        return value, best_state\n",
    "    else:\n",
    "        value = float('inf')\n",
    "        for child in generate_children(state, depth, player):\n",
    "            val, _ = alphabeta(child, depth-1, alpha, beta, player, fatigue+1, trust_level, True)\n",
    "            if val < value:\n",
    "                value, best_state = val, child\n",
    "            beta = min(beta, value)\n",
    "            if alpha >= beta:\n",
    "                break\n",
    "        return value, best_state\n"
   ],
   "id": "da0caeb40e9a71fa",
   "outputs": [],
   "execution_count": 15
  },
  {
   "metadata": {},
   "cell_type": "markdown",
   "source": "# Task B5: Negotiation Simulation (Minimax vs Alpha-Beta)",
   "id": "53a5cdb9d0c627d5"
  },
  {
   "metadata": {
    "ExecuteTime": {
     "end_time": "2025-05-28T16:38:44.203185Z",
     "start_time": "2025-05-28T16:38:44.193993Z"
    }
   },
   "cell_type": "code",
   "source": [
    "# Format: (Faction A, Faction B, initial state)\n",
    "negotiations = [\n",
    "    ('F1', 'F2', {'room': 'Room3', 'slot': 'Late'}),\n",
    "    ('F3', 'F4', {'room': 'Room2', 'slot': 'Mid'}),\n",
    "    ('F5', 'F6', {'room': 'Room3', 'slot': 'Late'})\n",
    "]\n"
   ],
   "id": "7ff8b1dafee5d7e1",
   "outputs": [],
   "execution_count": 16
  },
  {
   "metadata": {},
   "cell_type": "markdown",
   "source": "# ⚙️ Run Simulations",
   "id": "28dc12516fa81b66"
  },
  {
   "metadata": {
    "ExecuteTime": {
     "end_time": "2025-05-28T16:39:01.718372Z",
     "start_time": "2025-05-28T16:39:01.709505Z"
    }
   },
   "cell_type": "code",
   "source": [
    "results = []\n",
    "\n",
    "for p1, p2, state in negotiations:\n",
    "    state_minimax = state.copy()\n",
    "    state_minimax['player'] = p1\n",
    "    nodes_expanded = 0\n",
    "    score_mm, final_mm = minimax(state_minimax, depth=3, player=p1, fatigue=0, trust_level=0, maximizing=True)\n",
    "    mm_nodes = nodes_expanded\n",
    "\n",
    "    state_ab = state.copy()\n",
    "    state_ab['player'] = p1\n",
    "    nodes_alpha_beta = 0\n",
    "    score_ab, final_ab = alphabeta(state_ab, depth=3, alpha=float('-inf'), beta=float('inf'),\n",
    "                                   player=p1, fatigue=0, trust_level=0, maximizing=True)\n",
    "    ab_nodes = nodes_alpha_beta\n",
    "\n",
    "    results.append({\n",
    "        'pair': f\"{p1} vs {p2}\",\n",
    "        'minimax_action': final_mm['action'],\n",
    "        'alphabeta_action': final_ab['action'],\n",
    "        'minimax_score': score_mm,\n",
    "        'alphabeta_score': score_ab,\n",
    "        'minimax_nodes': mm_nodes,\n",
    "        'alphabeta_nodes': ab_nodes\n",
    "    })\n"
   ],
   "id": "d90181f852935dae",
   "outputs": [],
   "execution_count": 17
  },
  {
   "metadata": {},
   "cell_type": "markdown",
   "source": "Print Results",
   "id": "927b2bdfe39bceea"
  },
  {
   "metadata": {
    "ExecuteTime": {
     "end_time": "2025-05-28T16:39:16.918369Z",
     "start_time": "2025-05-28T16:39:16.907590Z"
    }
   },
   "cell_type": "code",
   "source": [
    "print(\"\\n🔍 Negotiation Outcomes Comparison:\")\n",
    "for i, r in enumerate(results, 1):\n",
    "    print(f\"{i}. {r['pair']}\")\n",
    "    print(f\"   Minimax     → Action: {r['minimax_action']} | Score: {r['minimax_score']} | Nodes: {r['minimax_nodes']}\")\n",
    "    print(f\"   Alpha-Beta  → Action: {r['alphabeta_action']} | Score: {r['alphabeta_score']} | Nodes: {r['alphabeta_nodes']}\")\n"
   ],
   "id": "3db2d0a3547e9655",
   "outputs": [
    {
     "name": "stdout",
     "output_type": "stream",
     "text": [
      "\n",
      "🔍 Negotiation Outcomes Comparison:\n",
      "1. F1 vs F2\n",
      "   Minimax     → Action: Offer | Score: -1 | Nodes: 156\n",
      "   Alpha-Beta  → Action: Offer | Score: -1 | Nodes: 52\n",
      "2. F3 vs F4\n",
      "   Minimax     → Action: Offer | Score: -1 | Nodes: 156\n",
      "   Alpha-Beta  → Action: Offer | Score: -1 | Nodes: 52\n",
      "3. F5 vs F6\n",
      "   Minimax     → Action: Offer | Score: -1 | Nodes: 156\n",
      "   Alpha-Beta  → Action: Offer | Score: -1 | Nodes: 52\n"
     ]
    }
   ],
   "execution_count": 18
  },
  {
   "metadata": {},
   "cell_type": "markdown",
   "source": "# Task B6: Plot — Node Expansions Comparison",
   "id": "30b16332cd1cd315"
  },
  {
   "metadata": {
    "ExecuteTime": {
     "end_time": "2025-05-28T16:40:07.089749Z",
     "start_time": "2025-05-28T16:40:05.672968Z"
    }
   },
   "cell_type": "code",
   "source": [
    "import matplotlib.pyplot as plt\n",
    "import numpy as np\n",
    "\n",
    "pairs = [r['pair'] for r in results]\n",
    "mm_nodes = [r['minimax_nodes'] for r in results]\n",
    "ab_nodes = [r['alphabeta_nodes'] for r in results]\n",
    "\n",
    "x = np.arange(len(pairs))\n",
    "width = 0.35\n",
    "\n",
    "plt.figure(figsize=(8, 5))\n",
    "plt.bar(x - width/2, mm_nodes, width, label='Minimax')\n",
    "plt.bar(x + width/2, ab_nodes, width, label='Alpha-Beta')\n",
    "plt.xticks(x, pairs)\n",
    "plt.ylabel(\"Number of Nodes Expanded\")\n",
    "plt.title(\"Minimax vs Alpha-Beta: Node Expansion Comparison\")\n",
    "plt.legend()\n",
    "plt.grid(axis='y')\n",
    "plt.tight_layout()\n",
    "plt.show()\n"
   ],
   "id": "c2389f482ee0b8d3",
   "outputs": [
    {
     "data": {
      "text/plain": [
       "<Figure size 800x500 with 1 Axes>"
      ],
      "image/png": "[encoded data removed]"
     },
     "metadata": {},
     "output_type": "display_data"
    }
   ],
   "execution_count": 19
  },
  {
   "metadata": {},
   "cell_type": "markdown",
   "source": "# Task B7: Plot — Final Utility Comparison",
   "id": "9c8298c8767ed65"
  },
  {
   "metadata": {
    "ExecuteTime": {
     "end_time": "2025-05-28T16:40:26.396740Z",
     "start_time": "2025-05-28T16:40:26.233740Z"
    }
   },
   "cell_type": "code",
   "source": [
    "labels = [r['pair'] for r in results]\n",
    "mm_scores = [r['minimax_score'] for r in results]\n",
    "ab_scores = [r['alphabeta_score'] for r in results]\n",
    "\n",
    "x = np.arange(len(labels))\n",
    "width = 0.35\n",
    "\n",
    "plt.figure(figsize=(8, 4))\n",
    "plt.bar(x - width/2, mm_scores, width, label='Minimax')\n",
    "plt.bar(x + width/2, ab_scores, width, label='Alpha-Beta')\n",
    "plt.xticks(x, labels)\n",
    "plt.ylabel(\"Final Utility (Player A)\")\n",
    "plt.title(\"Final Negotiation Scores: Minimax vs Alpha-Beta\")\n",
    "plt.legend()\n",
    "plt.grid(True)\n",
    "plt.tight_layout()\n",
    "plt.show()\n"
   ],
   "id": "bf142a2bc9a2627b",
   "outputs": [
    {
     "data": {
      "text/plain": [
       "<Figure size 800x400 with 1 Axes>"
      ],
      "image/png": "[encoded data removed]"
     },
     "metadata": {},
     "output_type": "display_data"
    }
   ],
   "execution_count": 20
  },
  {
   "metadata": {},
   "cell_type": "code",
   "outputs": [],
   "execution_count": null,
   "source": "",
   "id": "ff3b701b3e135497"
  }
 ],
 "metadata": {
  "kernelspec": {
   "display_name": "Python [conda env:base] *",
   "language": "python",
   "name": "conda-base-py"
  },
  "language_info": {
   "codemirror_mode": {
    "name": "ipython",
    "version": 2
   },
   "file_extension": ".py",
   "mimetype": "text/x-python",
   "name": "python",
   "nbconvert_exporter": "python",
   "pygments_lexer": "ipython2",
   "version": "2.7.6"
  }
 },
 "nbformat": 4,
 "nbformat_minor": 5
}
